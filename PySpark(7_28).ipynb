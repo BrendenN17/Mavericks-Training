{
  "nbformat": 4,
  "nbformat_minor": 0,
  "metadata": {
    "colab": {
      "name": "PySpark(7/28).ipynb",
      "provenance": [],
      "collapsed_sections": []
    },
    "kernelspec": {
      "name": "python3",
      "display_name": "Python 3"
    },
    "language_info": {
      "name": "python"
    }
  },
  "cells": [
    {
      "cell_type": "code",
      "execution_count": null,
      "metadata": {
        "colab": {
          "base_uri": "https://localhost:8080/"
        },
        "id": "n1VwMG5q6R9C",
        "outputId": "df1bfc6e-7602-44e4-c78c-bd392ee6df8a"
      },
      "outputs": [
        {
          "output_type": "stream",
          "name": "stdout",
          "text": [
            "Looking in indexes: https://pypi.org/simple, https://us-python.pkg.dev/colab-wheels/public/simple/\n",
            "Collecting pyspark\n",
            "  Downloading pyspark-3.3.0.tar.gz (281.3 MB)\n",
            "\u001b[K     |████████████████████████████████| 281.3 MB 41 kB/s \n",
            "\u001b[?25hCollecting py4j==0.10.9.5\n",
            "  Downloading py4j-0.10.9.5-py2.py3-none-any.whl (199 kB)\n",
            "\u001b[K     |████████████████████████████████| 199 kB 59.8 MB/s \n",
            "\u001b[?25hBuilding wheels for collected packages: pyspark\n",
            "  Building wheel for pyspark (setup.py) ... \u001b[?25l\u001b[?25hdone\n",
            "  Created wheel for pyspark: filename=pyspark-3.3.0-py2.py3-none-any.whl size=281764026 sha256=02c2332cc2012afef9499d09833f6b3215796b2fe503f596ee6091b19cfc5524\n",
            "  Stored in directory: /root/.cache/pip/wheels/7a/8e/1b/f73a52650d2e5f337708d9f6a1750d451a7349a867f928b885\n",
            "Successfully built pyspark\n",
            "Installing collected packages: py4j, pyspark\n",
            "Successfully installed py4j-0.10.9.5 pyspark-3.3.0\n"
          ]
        }
      ],
      "source": [
        "!pip install pyspark\n",
        "from pyspark.sql import SparkSession"
      ]
    },
    {
      "cell_type": "code",
      "source": [
        "from google.colab import drive\n",
        "drive.mount('/content/gdrive')"
      ],
      "metadata": {
        "colab": {
          "base_uri": "https://localhost:8080/"
        },
        "id": "lOQDGua-8guf",
        "outputId": "a7beb0da-4a18-466d-f252-6043fbf216e0"
      },
      "execution_count": null,
      "outputs": [
        {
          "output_type": "stream",
          "name": "stdout",
          "text": [
            "Mounted at /content/gdrive\n"
          ]
        }
      ]
    },
    {
      "cell_type": "code",
      "source": [
        "gdp_file = 'gdrive/MyDrive/gdp.csv'"
      ],
      "metadata": {
        "id": "2EyulMCX8lY9"
      },
      "execution_count": null,
      "outputs": []
    },
    {
      "cell_type": "code",
      "source": [
        "spark=SparkSession.builder.appName('sparkSQL').getOrCreate()"
      ],
      "metadata": {
        "id": "YQ1FV0ds8wTM"
      },
      "execution_count": null,
      "outputs": []
    },
    {
      "cell_type": "code",
      "source": [
        "data = spark.read.csv(gdp_file, header=True, inferSchema=True)"
      ],
      "metadata": {
        "id": "x4uV1BaR8_I7"
      },
      "execution_count": null,
      "outputs": []
    },
    {
      "cell_type": "code",
      "source": [
        "data.show(10)"
      ],
      "metadata": {
        "colab": {
          "base_uri": "https://localhost:8080/"
        },
        "id": "WvrRIlcn9GzG",
        "outputId": "2bac230c-7120-4fd7-ba9e-11c32a7844a5"
      },
      "execution_count": null,
      "outputs": [
        {
          "output_type": "stream",
          "name": "stdout",
          "text": [
            "+------------+------------+----+-------------------+\n",
            "|Country Name|Country Code|Year|              Value|\n",
            "+------------+------------+----+-------------------+\n",
            "|  Arab World|         ARB|1968|2.57606830410857E10|\n",
            "|  Arab World|         ARB|1969|2.84342036154829E10|\n",
            "|  Arab World|         ARB|1970|3.13854996640672E10|\n",
            "|  Arab World|         ARB|1971|3.64269098883928E10|\n",
            "|  Arab World|         ARB|1972|4.33160566154562E10|\n",
            "|  Arab World|         ARB|1973|5.50183949455825E10|\n",
            "|  Arab World|         ARB|1974|1.05145803084377E11|\n",
            "|  Arab World|         ARB|1975|1.16337021938341E11|\n",
            "|  Arab World|         ARB|1976|1.44846175400488E11|\n",
            "|  Arab World|         ARB|1977|1.67308327683593E11|\n",
            "+------------+------------+----+-------------------+\n",
            "only showing top 10 rows\n",
            "\n"
          ]
        }
      ]
    },
    {
      "cell_type": "code",
      "source": [
        "data.printSchema()"
      ],
      "metadata": {
        "colab": {
          "base_uri": "https://localhost:8080/"
        },
        "id": "isLR2atR9LdN",
        "outputId": "af681fda-c113-4253-89aa-dcc01f3fb201"
      },
      "execution_count": null,
      "outputs": [
        {
          "output_type": "stream",
          "name": "stdout",
          "text": [
            "root\n",
            " |-- Country Name: string (nullable = true)\n",
            " |-- Country Code: string (nullable = true)\n",
            " |-- Year: integer (nullable = true)\n",
            " |-- Value: double (nullable = true)\n",
            "\n"
          ]
        }
      ]
    },
    {
      "cell_type": "code",
      "source": [
        "data.columns"
      ],
      "metadata": {
        "colab": {
          "base_uri": "https://localhost:8080/"
        },
        "id": "IUyJiTkB9hIu",
        "outputId": "2cf1a3c6-0da3-4135-8b8a-98d08ab0f138"
      },
      "execution_count": null,
      "outputs": [
        {
          "output_type": "execute_result",
          "data": {
            "text/plain": [
              "['Country Name', 'Country Code', 'Year', 'Value']"
            ]
          },
          "metadata": {},
          "execution_count": 8
        }
      ]
    },
    {
      "cell_type": "code",
      "source": [
        "type(data.columns)"
      ],
      "metadata": {
        "colab": {
          "base_uri": "https://localhost:8080/"
        },
        "id": "av9cJ0FP9um4",
        "outputId": "66774832-4b11-499c-b62b-49e649abb29c"
      },
      "execution_count": null,
      "outputs": [
        {
          "output_type": "execute_result",
          "data": {
            "text/plain": [
              "list"
            ]
          },
          "metadata": {},
          "execution_count": 9
        }
      ]
    },
    {
      "cell_type": "code",
      "source": [
        "data.createOrReplaceTempView('GDP') # creates a temporary view 'GDP' of data"
      ],
      "metadata": {
        "id": "dg5Qq2yN9xhQ"
      },
      "execution_count": null,
      "outputs": []
    },
    {
      "cell_type": "code",
      "source": [
        "spark.sql(\"SELECT * FROM GDP\").show(5)"
      ],
      "metadata": {
        "colab": {
          "base_uri": "https://localhost:8080/"
        },
        "id": "wvm8n0_z9947",
        "outputId": "550e1a9f-485a-4ea2-b953-83826f375283"
      },
      "execution_count": null,
      "outputs": [
        {
          "output_type": "stream",
          "name": "stdout",
          "text": [
            "+------------+------------+----+-------------------+\n",
            "|Country Name|Country Code|Year|              Value|\n",
            "+------------+------------+----+-------------------+\n",
            "|  Arab World|         ARB|1968|2.57606830410857E10|\n",
            "|  Arab World|         ARB|1969|2.84342036154829E10|\n",
            "|  Arab World|         ARB|1970|3.13854996640672E10|\n",
            "|  Arab World|         ARB|1971|3.64269098883928E10|\n",
            "|  Arab World|         ARB|1972|4.33160566154562E10|\n",
            "+------------+------------+----+-------------------+\n",
            "only showing top 5 rows\n",
            "\n"
          ]
        }
      ]
    },
    {
      "cell_type": "code",
      "source": [
        "spark.sql(\"SELECT `Country Name` FROM GDP\").show(5)"
      ],
      "metadata": {
        "colab": {
          "base_uri": "https://localhost:8080/"
        },
        "id": "ud5j2CGg-IzJ",
        "outputId": "eda95727-d9c4-4e21-8527-4e718646d473"
      },
      "execution_count": null,
      "outputs": [
        {
          "output_type": "stream",
          "name": "stdout",
          "text": [
            "+------------+\n",
            "|Country Name|\n",
            "+------------+\n",
            "|  Arab World|\n",
            "|  Arab World|\n",
            "|  Arab World|\n",
            "|  Arab World|\n",
            "|  Arab World|\n",
            "+------------+\n",
            "only showing top 5 rows\n",
            "\n"
          ]
        }
      ]
    },
    {
      "cell_type": "code",
      "source": [
        "spark.sql(\"SELECT `Country Name`, length(`Country Name`) FROM GDP\").show(5)"
      ],
      "metadata": {
        "colab": {
          "base_uri": "https://localhost:8080/"
        },
        "id": "M31HT0FK_d8B",
        "outputId": "8e095c42-457e-4757-c0dc-68e42ba86255"
      },
      "execution_count": null,
      "outputs": [
        {
          "output_type": "stream",
          "name": "stdout",
          "text": [
            "+------------+--------------------+\n",
            "|Country Name|length(Country Name)|\n",
            "+------------+--------------------+\n",
            "|  Arab World|                  10|\n",
            "|  Arab World|                  10|\n",
            "|  Arab World|                  10|\n",
            "|  Arab World|                  10|\n",
            "|  Arab World|                  10|\n",
            "+------------+--------------------+\n",
            "only showing top 5 rows\n",
            "\n"
          ]
        }
      ]
    },
    {
      "cell_type": "code",
      "source": [
        "spark.sql(\"SELECT `Country Name`, `Country Code` FROM GDP where Year==2000 and `Country Code` == 'ECA'\").show(5)"
      ],
      "metadata": {
        "colab": {
          "base_uri": "https://localhost:8080/"
        },
        "id": "EXpYkye4ANRH",
        "outputId": "585f88e7-3a41-46d6-e461-e9451b4fc5c2"
      },
      "execution_count": null,
      "outputs": [
        {
          "output_type": "stream",
          "name": "stdout",
          "text": [
            "+--------------------+------------+\n",
            "|        Country Name|Country Code|\n",
            "+--------------------+------------+\n",
            "|Europe & Central ...|         ECA|\n",
            "+--------------------+------------+\n",
            "\n"
          ]
        }
      ]
    },
    {
      "cell_type": "code",
      "source": [
        "spark.sql(\"SELECT * FROM GDP where Year==2000 order by Value desc\").show(10)"
      ],
      "metadata": {
        "colab": {
          "base_uri": "https://localhost:8080/"
        },
        "id": "Itt2X_VaAemJ",
        "outputId": "49d4d357-3bf2-478d-a651-88d9e3249aad"
      },
      "execution_count": null,
      "outputs": [
        {
          "output_type": "stream",
          "name": "stdout",
          "text": [
            "+--------------------+------------+----+-------------------+\n",
            "|        Country Name|Country Code|Year|              Value|\n",
            "+--------------------+------------+----+-------------------+\n",
            "|               World|         WLD|2000| 3.3566568243507E13|\n",
            "|         High income|         HIC|2000|2.75855770295863E13|\n",
            "|        OECD members|         OED|2000|2.73774941050207E13|\n",
            "|Post-demographic ...|         PST|2000|2.62962546828978E13|\n",
            "|       North America|         NAC|2000|1.10305526672526E13|\n",
            "|       United States|         USA|2000|       1.0284779E13|\n",
            "|Europe & Central ...|         ECS|2000|1.00253312554122E13|\n",
            "|      European Union|         EUU|2000|8.91244418183919E12|\n",
            "| East Asia & Pacific|         EAS|2000|8.29188137220196E12|\n",
            "|           Euro area|         EMU|2000|6.48732547409912E12|\n",
            "+--------------------+------------+----+-------------------+\n",
            "only showing top 10 rows\n",
            "\n"
          ]
        }
      ]
    },
    {
      "cell_type": "code",
      "source": [
        "spark.sql(\"SELECT mean(Value) FROM GDP where `Country Code` == 'USA'\").show()"
      ],
      "metadata": {
        "colab": {
          "base_uri": "https://localhost:8080/"
        },
        "id": "TRJg9N_DA2oF",
        "outputId": "21ba9530-2ba7-4ff5-9909-1889a103e775"
      },
      "execution_count": null,
      "outputs": [
        {
          "output_type": "stream",
          "name": "stdout",
          "text": [
            "+--------------------+\n",
            "|         mean(Value)|\n",
            "+--------------------+\n",
            "|6.773383877192982E12|\n",
            "+--------------------+\n",
            "\n"
          ]
        }
      ]
    },
    {
      "cell_type": "code",
      "source": [
        "spark.sql(\"SELECT count(Value) FROM GDP where `Country Code` == 'USA'\").show()"
      ],
      "metadata": {
        "colab": {
          "base_uri": "https://localhost:8080/"
        },
        "id": "DUpMDwuPBUvE",
        "outputId": "1be4fd35-35b6-4d0f-8f15-444f572a7e92"
      },
      "execution_count": null,
      "outputs": [
        {
          "output_type": "stream",
          "name": "stdout",
          "text": [
            "+------------+\n",
            "|count(Value)|\n",
            "+------------+\n",
            "|          57|\n",
            "+------------+\n",
            "\n"
          ]
        }
      ]
    },
    {
      "cell_type": "code",
      "source": [
        "spark.sql(\"SELECT sum(Value) FROM GDP where Year == 2000 and `Country Name` in ('North America', 'India')\").show()"
      ],
      "metadata": {
        "colab": {
          "base_uri": "https://localhost:8080/"
        },
        "id": "w_Ee6nZZBaAg",
        "outputId": "c7e83139-7a53-4c5f-b0ea-81ff7bb1ac96"
      },
      "execution_count": null,
      "outputs": [
        {
          "output_type": "stream",
          "name": "stdout",
          "text": [
            "+--------------------+\n",
            "|          sum(Value)|\n",
            "+--------------------+\n",
            "|1.149269946658937E13|\n",
            "+--------------------+\n",
            "\n"
          ]
        }
      ]
    },
    {
      "cell_type": "code",
      "source": [
        "spark.sql(\"SELECT sum(Value) FROM GDP where Year == 2000 and `Country Name` in ('North America', 'India', 'Japan')\").show()"
      ],
      "metadata": {
        "colab": {
          "base_uri": "https://localhost:8080/"
        },
        "id": "hJhhQQw3B6lr",
        "outputId": "d80ae249-b4d2-48be-ae7b-90ace0496e0e"
      },
      "execution_count": null,
      "outputs": [
        {
          "output_type": "stream",
          "name": "stdout",
          "text": [
            "+--------------------+\n",
            "|          sum(Value)|\n",
            "+--------------------+\n",
            "|1.638021912733423E13|\n",
            "+--------------------+\n",
            "\n"
          ]
        }
      ]
    },
    {
      "cell_type": "code",
      "source": [
        "ccp_file = 'gdrive/MyDrive/combined_cycle_power_plant.csv'"
      ],
      "metadata": {
        "id": "nichPe2KChpb"
      },
      "execution_count": null,
      "outputs": []
    },
    {
      "cell_type": "code",
      "source": [
        "ccp_data = spark.read.csv(ccp_file, header=True, inferSchema=True, sep=';')"
      ],
      "metadata": {
        "id": "NYG1kNDjScEN"
      },
      "execution_count": null,
      "outputs": []
    },
    {
      "cell_type": "code",
      "source": [
        "ccp_data.show()"
      ],
      "metadata": {
        "colab": {
          "base_uri": "https://localhost:8080/"
        },
        "id": "-w02jY_WSiLN",
        "outputId": "d092858e-76fe-4818-8adf-0dd12e79e45d"
      },
      "execution_count": null,
      "outputs": [
        {
          "output_type": "stream",
          "name": "stdout",
          "text": [
            "+-----------+--------------+----------------+-----------------+-------------+\n",
            "|temperature|exhaust_vacuum|ambient_pressure|relative_humidity|energy_output|\n",
            "+-----------+--------------+----------------+-----------------+-------------+\n",
            "|       9.59|         38.56|         1017.01|             60.1|        481.3|\n",
            "|      12.04|         42.34|         1019.72|            94.67|       465.36|\n",
            "|      13.87|         45.08|         1024.42|            81.69|       465.48|\n",
            "|      13.72|          54.3|         1017.89|            79.08|       467.05|\n",
            "|      15.14|         49.64|         1023.78|             75.0|       463.58|\n",
            "|      23.63|         60.93|         1006.41|            83.06|        439.9|\n",
            "|      22.99|         61.02|         1009.88|            81.56|       440.85|\n",
            "|      12.85|          40.0|         1015.89|            68.85|       463.74|\n",
            "|      29.88|         68.08|         1011.14|            55.78|       429.33|\n",
            "|      23.22|         66.56|         1002.47|            85.39|       437.11|\n",
            "|       9.02|         38.08|         1019.02|            69.98|       478.32|\n",
            "|      26.12|          75.6|         1017.41|            72.31|       439.68|\n",
            "|      16.66|         36.71|         1013.68|            70.66|       466.07|\n",
            "|      29.56|         52.84|         1006.09|            42.17|       436.46|\n",
            "|       30.0|          61.5|          1009.4|            48.63|        435.6|\n",
            "|      30.39|         70.98|         1007.55|            72.76|       435.48|\n",
            "|      20.88|         47.45|          1007.5|            76.21|       449.34|\n",
            "|      28.14|         61.47|         1009.69|            64.66|       435.35|\n",
            "|      18.86|         46.48|         1007.28|            78.47|        452.0|\n",
            "|      31.85|          68.3|         1014.76|            47.06|       428.72|\n",
            "+-----------+--------------+----------------+-----------------+-------------+\n",
            "only showing top 20 rows\n",
            "\n"
          ]
        }
      ]
    },
    {
      "cell_type": "code",
      "source": [
        "from pyspark.sql.functions import corr"
      ],
      "metadata": {
        "id": "srQ2tj6hSkvE"
      },
      "execution_count": null,
      "outputs": []
    },
    {
      "cell_type": "code",
      "source": [
        "ccp_data.select(corr('temperature', 'exhaust_vacuum')).show()"
      ],
      "metadata": {
        "colab": {
          "base_uri": "https://localhost:8080/"
        },
        "id": "jN3t2DgGT-Uz",
        "outputId": "e06d463f-4ca9-4433-803a-fe0dbdb0b92e"
      },
      "execution_count": null,
      "outputs": [
        {
          "output_type": "stream",
          "name": "stdout",
          "text": [
            "+---------------------------------+\n",
            "|corr(temperature, exhaust_vacuum)|\n",
            "+---------------------------------+\n",
            "|               0.8441067318678673|\n",
            "+---------------------------------+\n",
            "\n"
          ]
        }
      ]
    },
    {
      "cell_type": "code",
      "source": [
        "from pyspark.ml.feature import VectorAssembler"
      ],
      "metadata": {
        "id": "gP1vY-cbUk8-"
      },
      "execution_count": null,
      "outputs": []
    },
    {
      "cell_type": "code",
      "source": [
        "ccp_data.columns"
      ],
      "metadata": {
        "colab": {
          "base_uri": "https://localhost:8080/"
        },
        "id": "zM10hA-tU123",
        "outputId": "25019cbb-a18f-4732-d7e3-973631703904"
      },
      "execution_count": null,
      "outputs": [
        {
          "output_type": "execute_result",
          "data": {
            "text/plain": [
              "['temperature',\n",
              " 'exhaust_vacuum',\n",
              " 'ambient_pressure',\n",
              " 'relative_humidity',\n",
              " 'energy_output']"
            ]
          },
          "metadata": {},
          "execution_count": 39
        }
      ]
    },
    {
      "cell_type": "code",
      "source": [
        "ass=VectorAssembler(inputCols=['temperature', 'exhaust_vacuum', 'ambient_pressure', 'relative_humidity'], outputCol='feature')"
      ],
      "metadata": {
        "id": "zwFj3hM0U3jT"
      },
      "execution_count": null,
      "outputs": []
    },
    {
      "cell_type": "code",
      "source": [
        "finaldata = ass.transform(ccp_data)"
      ],
      "metadata": {
        "id": "FcZ97TbzVHnl"
      },
      "execution_count": null,
      "outputs": []
    },
    {
      "cell_type": "code",
      "source": [
        "finaldata.show(5)"
      ],
      "metadata": {
        "colab": {
          "base_uri": "https://localhost:8080/"
        },
        "id": "bT5zDFUXVJAY",
        "outputId": "d522add6-e4ed-446f-bdba-f211a9401b2d"
      },
      "execution_count": null,
      "outputs": [
        {
          "output_type": "stream",
          "name": "stdout",
          "text": [
            "+-----------+--------------+----------------+-----------------+-------------+--------------------+\n",
            "|temperature|exhaust_vacuum|ambient_pressure|relative_humidity|energy_output|             feature|\n",
            "+-----------+--------------+----------------+-----------------+-------------+--------------------+\n",
            "|       9.59|         38.56|         1017.01|             60.1|        481.3|[9.59,38.56,1017....|\n",
            "|      12.04|         42.34|         1019.72|            94.67|       465.36|[12.04,42.34,1019...|\n",
            "|      13.87|         45.08|         1024.42|            81.69|       465.48|[13.87,45.08,1024...|\n",
            "|      13.72|          54.3|         1017.89|            79.08|       467.05|[13.72,54.3,1017....|\n",
            "|      15.14|         49.64|         1023.78|             75.0|       463.58|[15.14,49.64,1023...|\n",
            "+-----------+--------------+----------------+-----------------+-------------+--------------------+\n",
            "only showing top 5 rows\n",
            "\n"
          ]
        }
      ]
    },
    {
      "cell_type": "code",
      "source": [
        "finaldata = finaldata.select('feature', 'energy_output')"
      ],
      "metadata": {
        "id": "I6MlKhRuVOEV"
      },
      "execution_count": null,
      "outputs": []
    },
    {
      "cell_type": "code",
      "source": [
        "finaldata.show(5)"
      ],
      "metadata": {
        "colab": {
          "base_uri": "https://localhost:8080/"
        },
        "id": "_r_fME6JVXt7",
        "outputId": "e4e2337b-9f42-4c4c-ad53-a832793a3e6b"
      },
      "execution_count": null,
      "outputs": [
        {
          "output_type": "stream",
          "name": "stdout",
          "text": [
            "+--------------------+-------------+\n",
            "|             feature|energy_output|\n",
            "+--------------------+-------------+\n",
            "|[9.59,38.56,1017....|        481.3|\n",
            "|[12.04,42.34,1019...|       465.36|\n",
            "|[13.87,45.08,1024...|       465.48|\n",
            "|[13.72,54.3,1017....|       467.05|\n",
            "|[15.14,49.64,1023...|       463.58|\n",
            "+--------------------+-------------+\n",
            "only showing top 5 rows\n",
            "\n"
          ]
        }
      ]
    },
    {
      "cell_type": "code",
      "source": [
        "train_data, test_data = finaldata.randomSplit([0.7, 0.3]) #70%train and 30%test data"
      ],
      "metadata": {
        "id": "yoT-I487VYyo"
      },
      "execution_count": null,
      "outputs": []
    },
    {
      "cell_type": "code",
      "source": [
        "finaldata.count()"
      ],
      "metadata": {
        "colab": {
          "base_uri": "https://localhost:8080/"
        },
        "id": "HHlm2u4BVupH",
        "outputId": "991b5060-1512-45a3-ae98-f4966bddf568"
      },
      "execution_count": null,
      "outputs": [
        {
          "output_type": "execute_result",
          "data": {
            "text/plain": [
              "9568"
            ]
          },
          "metadata": {},
          "execution_count": 49
        }
      ]
    },
    {
      "cell_type": "code",
      "source": [
        "train_data.count()"
      ],
      "metadata": {
        "colab": {
          "base_uri": "https://localhost:8080/"
        },
        "id": "Kkoai98sV0NZ",
        "outputId": "440bbc96-a667-4421-fcbb-e290085dbed4"
      },
      "execution_count": null,
      "outputs": [
        {
          "output_type": "execute_result",
          "data": {
            "text/plain": [
              "6693"
            ]
          },
          "metadata": {},
          "execution_count": 50
        }
      ]
    },
    {
      "cell_type": "code",
      "source": [
        "test_data.count()"
      ],
      "metadata": {
        "colab": {
          "base_uri": "https://localhost:8080/"
        },
        "id": "fPk_UfIHV3E-",
        "outputId": "619d7cdc-060a-4d58-d1b4-0c7756d5ea9c"
      },
      "execution_count": null,
      "outputs": [
        {
          "output_type": "execute_result",
          "data": {
            "text/plain": [
              "2875"
            ]
          },
          "metadata": {},
          "execution_count": 51
        }
      ]
    },
    {
      "cell_type": "code",
      "source": [
        "from pyspark.ml.regression import LinearRegression"
      ],
      "metadata": {
        "id": "ZQb05R1KV4qq"
      },
      "execution_count": null,
      "outputs": []
    },
    {
      "cell_type": "code",
      "source": [
        "algo = LinearRegression(featuresCol='feature', labelCol='energy_output')"
      ],
      "metadata": {
        "id": "nfyuL8VSWcJ_"
      },
      "execution_count": null,
      "outputs": []
    },
    {
      "cell_type": "code",
      "source": [
        "algo.fit(train_data)"
      ],
      "metadata": {
        "colab": {
          "base_uri": "https://localhost:8080/"
        },
        "id": "eeSOEuuaWrQp",
        "outputId": "9b3adfd5-4c2d-4c02-e0d9-f1b6e0701a6d"
      },
      "execution_count": null,
      "outputs": [
        {
          "output_type": "execute_result",
          "data": {
            "text/plain": [
              "LinearRegressionModel: uid=LinearRegression_66166cdfcf8a, numFeatures=4"
            ]
          },
          "metadata": {},
          "execution_count": 57
        }
      ]
    },
    {
      "cell_type": "code",
      "source": [
        "model = algo.fit(train_data)"
      ],
      "metadata": {
        "id": "TZw3S11UW2JQ"
      },
      "execution_count": null,
      "outputs": []
    },
    {
      "cell_type": "code",
      "source": [
        "model.coefficients"
      ],
      "metadata": {
        "colab": {
          "base_uri": "https://localhost:8080/"
        },
        "id": "9gfNGm5JXsHa",
        "outputId": "26222ef1-2e0a-4f88-a4da-d18a3b2be2b9"
      },
      "execution_count": null,
      "outputs": [
        {
          "output_type": "execute_result",
          "data": {
            "text/plain": [
              "DenseVector([-1.9961, -0.227, 0.0573, -0.1599])"
            ]
          },
          "metadata": {},
          "execution_count": 59
        }
      ]
    },
    {
      "cell_type": "code",
      "source": [
        "model.intercept"
      ],
      "metadata": {
        "colab": {
          "base_uri": "https://localhost:8080/"
        },
        "id": "eWrgLp2DXtYj",
        "outputId": "10b3556f-80c4-406c-c204-9bb9f528a08c"
      },
      "execution_count": null,
      "outputs": [
        {
          "output_type": "execute_result",
          "data": {
            "text/plain": [
              "459.49332430724974"
            ]
          },
          "metadata": {},
          "execution_count": 60
        }
      ]
    },
    {
      "cell_type": "code",
      "source": [
        "y_pred = model.transform(test_data)"
      ],
      "metadata": {
        "id": "91uwokqOXu3V"
      },
      "execution_count": null,
      "outputs": []
    },
    {
      "cell_type": "code",
      "source": [
        "y_pred.show(5)"
      ],
      "metadata": {
        "id": "PLNhrfHZXx77",
        "outputId": "50a3c2a8-0709-448c-b019-c8afc56af596",
        "colab": {
          "base_uri": "https://localhost:8080/"
        }
      },
      "execution_count": null,
      "outputs": [
        {
          "output_type": "stream",
          "name": "stdout",
          "text": [
            "+--------------------+-------------+------------------+\n",
            "|             feature|energy_output|        prediction|\n",
            "+--------------------+-------------+------------------+\n",
            "|[2.34,39.42,1028....|       490.34| 493.7067529004493|\n",
            "|[2.58,39.42,1028....|       488.69| 493.3436836529176|\n",
            "|[2.71,39.42,1026....|        489.3| 491.0364150193012|\n",
            "|[3.26,41.31,996.3...|       489.38| 484.7486535601262|\n",
            "|[3.31,39.42,1024....|       487.19|489.17731201139526|\n",
            "+--------------------+-------------+------------------+\n",
            "only showing top 5 rows\n",
            "\n"
          ]
        }
      ]
    },
    {
      "cell_type": "code",
      "source": [
        ""
      ],
      "metadata": {
        "id": "vCN1FUfPXzFi"
      },
      "execution_count": null,
      "outputs": []
    }
  ]
}