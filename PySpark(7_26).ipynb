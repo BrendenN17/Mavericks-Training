{
  "nbformat": 4,
  "nbformat_minor": 0,
  "metadata": {
    "colab": {
      "name": "PySpark(7/26).ipynb",
      "provenance": [],
      "collapsed_sections": []
    },
    "kernelspec": {
      "name": "python3",
      "display_name": "Python 3"
    },
    "language_info": {
      "name": "python"
    }
  },
  "cells": [
    {
      "cell_type": "code",
      "execution_count": null,
      "metadata": {
        "colab": {
          "base_uri": "https://localhost:8080/"
        },
        "id": "ka6Y25lGMpRH",
        "outputId": "a28227d8-b35c-4156-df65-f9a99441ab9a"
      },
      "outputs": [
        {
          "output_type": "stream",
          "name": "stdout",
          "text": [
            "Looking in indexes: https://pypi.org/simple, https://us-python.pkg.dev/colab-wheels/public/simple/\n",
            "Requirement already satisfied: pyspark in /usr/local/lib/python3.7/dist-packages (3.3.0)\n",
            "Requirement already satisfied: py4j==0.10.9.5 in /usr/local/lib/python3.7/dist-packages (from pyspark) (0.10.9.5)\n"
          ]
        }
      ],
      "source": [
        "!pip install pyspark\n",
        "from pyspark.sql import SparkSession"
      ]
    },
    {
      "cell_type": "code",
      "source": [
        "spark = SparkSession.builder.master(\"local\").appName(\"Master Node\").getOrCreate()"
      ],
      "metadata": {
        "id": "oE6UPUJCNJKz"
      },
      "execution_count": null,
      "outputs": []
    },
    {
      "cell_type": "code",
      "source": [
        "df = spark.read.csv(\"insurance.csv\", sep=',', header=True, inferSchema=True)"
      ],
      "metadata": {
        "id": "XNRfOIenNvRS"
      },
      "execution_count": null,
      "outputs": []
    },
    {
      "cell_type": "code",
      "source": [
        "type(df)"
      ],
      "metadata": {
        "colab": {
          "base_uri": "https://localhost:8080/"
        },
        "id": "L0m9aPU7OHi_",
        "outputId": "34caa51c-10e1-4a26-b84e-48a33bc7704f"
      },
      "execution_count": null,
      "outputs": [
        {
          "output_type": "execute_result",
          "data": {
            "text/plain": [
              "pyspark.sql.dataframe.DataFrame"
            ]
          },
          "metadata": {},
          "execution_count": 58
        }
      ]
    },
    {
      "cell_type": "code",
      "source": [
        "df.head()"
      ],
      "metadata": {
        "colab": {
          "base_uri": "https://localhost:8080/"
        },
        "id": "kJPO73rxOKnU",
        "outputId": "c67a2c1d-400f-4959-913f-1c0a39c6c09d"
      },
      "execution_count": null,
      "outputs": [
        {
          "output_type": "execute_result",
          "data": {
            "text/plain": [
              "Row(age=19, sex='female', bmi=27.9, children=0, smoker='yes', region='southwest', charges=16884.924)"
            ]
          },
          "metadata": {},
          "execution_count": 59
        }
      ]
    },
    {
      "cell_type": "code",
      "source": [
        "df.head(10)"
      ],
      "metadata": {
        "colab": {
          "base_uri": "https://localhost:8080/"
        },
        "id": "Z4jV5K1qOMVY",
        "outputId": "50fcc2ee-6b85-42c4-d76f-73c98c3bd617"
      },
      "execution_count": null,
      "outputs": [
        {
          "output_type": "execute_result",
          "data": {
            "text/plain": [
              "[Row(age=19, sex='female', bmi=27.9, children=0, smoker='yes', region='southwest', charges=16884.924),\n",
              " Row(age=18, sex='male', bmi=33.77, children=1, smoker='no', region='southeast', charges=1725.5523),\n",
              " Row(age=28, sex='male', bmi=33.0, children=3, smoker='no', region='southeast', charges=4449.462),\n",
              " Row(age=33, sex='male', bmi=22.705, children=0, smoker='no', region='northwest', charges=21984.47061),\n",
              " Row(age=32, sex='male', bmi=28.88, children=0, smoker='no', region='northwest', charges=3866.8552),\n",
              " Row(age=31, sex='female', bmi=25.74, children=0, smoker='no', region='southeast', charges=3756.6216),\n",
              " Row(age=46, sex='female', bmi=33.44, children=1, smoker='no', region='southeast', charges=8240.5896),\n",
              " Row(age=37, sex='female', bmi=27.74, children=3, smoker='no', region='northwest', charges=7281.5056),\n",
              " Row(age=37, sex='male', bmi=29.83, children=2, smoker='no', region='northeast', charges=6406.4107),\n",
              " Row(age=60, sex='female', bmi=25.84, children=0, smoker='no', region='northwest', charges=28923.13692)]"
            ]
          },
          "metadata": {},
          "execution_count": 60
        }
      ]
    },
    {
      "cell_type": "code",
      "source": [
        "df.describe().show()"
      ],
      "metadata": {
        "colab": {
          "base_uri": "https://localhost:8080/"
        },
        "id": "wd16JyRkONie",
        "outputId": "40e4fddb-316b-4515-c3a7-521b572aeffc"
      },
      "execution_count": null,
      "outputs": [
        {
          "output_type": "stream",
          "name": "stdout",
          "text": [
            "+-------+------------------+------+------------------+-----------------+------+---------+------------------+\n",
            "|summary|               age|   sex|               bmi|         children|smoker|   region|           charges|\n",
            "+-------+------------------+------+------------------+-----------------+------+---------+------------------+\n",
            "|  count|              1338|  1338|              1338|             1338|  1338|     1338|              1338|\n",
            "|   mean| 39.20702541106129|  null|30.663396860986538|  1.0949177877429|  null|     null|13270.422265141257|\n",
            "| stddev|14.049960379216147|  null| 6.098186911679012|1.205492739781914|  null|     null|12110.011236693992|\n",
            "|    min|                18|female|             15.96|                0|    no|northeast|         1121.8739|\n",
            "|    max|                64|  male|             53.13|                5|   yes|southwest|       63770.42801|\n",
            "+-------+------------------+------+------------------+-----------------+------+---------+------------------+\n",
            "\n"
          ]
        }
      ]
    },
    {
      "cell_type": "code",
      "source": [
        "df.dtypes"
      ],
      "metadata": {
        "colab": {
          "base_uri": "https://localhost:8080/"
        },
        "id": "_Qnh7dijOSor",
        "outputId": "a2bcc692-ba25-4ceb-c516-a7e122126fd4"
      },
      "execution_count": null,
      "outputs": [
        {
          "output_type": "execute_result",
          "data": {
            "text/plain": [
              "[('age', 'int'),\n",
              " ('sex', 'string'),\n",
              " ('bmi', 'double'),\n",
              " ('children', 'int'),\n",
              " ('smoker', 'string'),\n",
              " ('region', 'string'),\n",
              " ('charges', 'double')]"
            ]
          },
          "metadata": {},
          "execution_count": 62
        }
      ]
    },
    {
      "cell_type": "code",
      "source": [
        "df.printSchema()"
      ],
      "metadata": {
        "colab": {
          "base_uri": "https://localhost:8080/"
        },
        "id": "PQzNCDGvOVKm",
        "outputId": "499deb2a-ac3c-40c9-f379-98613a570d11"
      },
      "execution_count": null,
      "outputs": [
        {
          "output_type": "stream",
          "name": "stdout",
          "text": [
            "root\n",
            " |-- age: integer (nullable = true)\n",
            " |-- sex: string (nullable = true)\n",
            " |-- bmi: double (nullable = true)\n",
            " |-- children: integer (nullable = true)\n",
            " |-- smoker: string (nullable = true)\n",
            " |-- region: string (nullable = true)\n",
            " |-- charges: double (nullable = true)\n",
            "\n"
          ]
        }
      ]
    },
    {
      "cell_type": "code",
      "source": [
        "df.distinct().count()"
      ],
      "metadata": {
        "colab": {
          "base_uri": "https://localhost:8080/"
        },
        "id": "s7yP4cWnOXYO",
        "outputId": "a38c4027-bfba-4e8b-c632-aacc41c4ca95"
      },
      "execution_count": null,
      "outputs": [
        {
          "output_type": "execute_result",
          "data": {
            "text/plain": [
              "1337"
            ]
          },
          "metadata": {},
          "execution_count": 64
        }
      ]
    },
    {
      "cell_type": "code",
      "source": [
        "df.show()"
      ],
      "metadata": {
        "colab": {
          "base_uri": "https://localhost:8080/"
        },
        "id": "x2JU_JhBOZob",
        "outputId": "331a4499-a2af-4fea-ad41-a388335e65a4"
      },
      "execution_count": null,
      "outputs": [
        {
          "output_type": "stream",
          "name": "stdout",
          "text": [
            "+---+------+------+--------+------+---------+-----------+\n",
            "|age|   sex|   bmi|children|smoker|   region|    charges|\n",
            "+---+------+------+--------+------+---------+-----------+\n",
            "| 19|female|  27.9|       0|   yes|southwest|  16884.924|\n",
            "| 18|  male| 33.77|       1|    no|southeast|  1725.5523|\n",
            "| 28|  male|  33.0|       3|    no|southeast|   4449.462|\n",
            "| 33|  male|22.705|       0|    no|northwest|21984.47061|\n",
            "| 32|  male| 28.88|       0|    no|northwest|  3866.8552|\n",
            "| 31|female| 25.74|       0|    no|southeast|  3756.6216|\n",
            "| 46|female| 33.44|       1|    no|southeast|  8240.5896|\n",
            "| 37|female| 27.74|       3|    no|northwest|  7281.5056|\n",
            "| 37|  male| 29.83|       2|    no|northeast|  6406.4107|\n",
            "| 60|female| 25.84|       0|    no|northwest|28923.13692|\n",
            "| 25|  male| 26.22|       0|    no|northeast|  2721.3208|\n",
            "| 62|female| 26.29|       0|   yes|southeast| 27808.7251|\n",
            "| 23|  male|  34.4|       0|    no|southwest|   1826.843|\n",
            "| 56|female| 39.82|       0|    no|southeast| 11090.7178|\n",
            "| 27|  male| 42.13|       0|   yes|southeast| 39611.7577|\n",
            "| 19|  male|  24.6|       1|    no|southwest|   1837.237|\n",
            "| 52|female| 30.78|       1|    no|northeast| 10797.3362|\n",
            "| 23|  male|23.845|       0|    no|northeast| 2395.17155|\n",
            "| 56|  male|  40.3|       0|    no|southwest|  10602.385|\n",
            "| 30|  male|  35.3|       0|   yes|southwest|  36837.467|\n",
            "+---+------+------+--------+------+---------+-----------+\n",
            "only showing top 20 rows\n",
            "\n"
          ]
        }
      ]
    },
    {
      "cell_type": "code",
      "source": [
        "df.describe('age').show()"
      ],
      "metadata": {
        "colab": {
          "base_uri": "https://localhost:8080/"
        },
        "id": "SRMnc5-BPBPt",
        "outputId": "c5a6def0-b418-45f8-c736-0c3a24f2e9c9"
      },
      "execution_count": null,
      "outputs": [
        {
          "output_type": "stream",
          "name": "stdout",
          "text": [
            "+-------+------------------+\n",
            "|summary|               age|\n",
            "+-------+------------------+\n",
            "|  count|              1338|\n",
            "|   mean| 39.20702541106129|\n",
            "| stddev|14.049960379216147|\n",
            "|    min|                18|\n",
            "|    max|                64|\n",
            "+-------+------------------+\n",
            "\n"
          ]
        }
      ]
    },
    {
      "cell_type": "code",
      "source": [
        "df.select('age', 'smoker', 'charges').show(10)"
      ],
      "metadata": {
        "colab": {
          "base_uri": "https://localhost:8080/"
        },
        "id": "CSX9Zsm8RALF",
        "outputId": "387a6b3f-d59b-4d2d-e50a-5414def79e87"
      },
      "execution_count": null,
      "outputs": [
        {
          "output_type": "stream",
          "name": "stdout",
          "text": [
            "+---+------+-----------+\n",
            "|age|smoker|    charges|\n",
            "+---+------+-----------+\n",
            "| 19|   yes|  16884.924|\n",
            "| 18|    no|  1725.5523|\n",
            "| 28|    no|   4449.462|\n",
            "| 33|    no|21984.47061|\n",
            "| 32|    no|  3866.8552|\n",
            "| 31|    no|  3756.6216|\n",
            "| 46|    no|  8240.5896|\n",
            "| 37|    no|  7281.5056|\n",
            "| 37|    no|  6406.4107|\n",
            "| 60|    no|28923.13692|\n",
            "+---+------+-----------+\n",
            "only showing top 10 rows\n",
            "\n"
          ]
        }
      ]
    },
    {
      "cell_type": "code",
      "source": [
        "df.groupby(\"smoker\").count().show()"
      ],
      "metadata": {
        "colab": {
          "base_uri": "https://localhost:8080/"
        },
        "id": "i3DKIYECR8Nb",
        "outputId": "688e334b-a486-4ed5-a7a0-4aa2c994e8bd"
      },
      "execution_count": null,
      "outputs": [
        {
          "output_type": "stream",
          "name": "stdout",
          "text": [
            "+------+-----+\n",
            "|smoker|count|\n",
            "+------+-----+\n",
            "|    no| 1064|\n",
            "|   yes|  274|\n",
            "+------+-----+\n",
            "\n"
          ]
        }
      ]
    },
    {
      "cell_type": "code",
      "source": [
        "df.filter(df['smoker'] == 'yes').show()"
      ],
      "metadata": {
        "colab": {
          "base_uri": "https://localhost:8080/"
        },
        "id": "2zcMjV4GTR9X",
        "outputId": "a6a729c6-338a-4b62-957b-ee1983f286db"
      },
      "execution_count": null,
      "outputs": [
        {
          "output_type": "stream",
          "name": "stdout",
          "text": [
            "+---+------+------+--------+------+---------+-----------+\n",
            "|age|   sex|   bmi|children|smoker|   region|    charges|\n",
            "+---+------+------+--------+------+---------+-----------+\n",
            "| 19|female|  27.9|       0|   yes|southwest|  16884.924|\n",
            "| 62|female| 26.29|       0|   yes|southeast| 27808.7251|\n",
            "| 27|  male| 42.13|       0|   yes|southeast| 39611.7577|\n",
            "| 30|  male|  35.3|       0|   yes|southwest|  36837.467|\n",
            "| 34|female| 31.92|       1|   yes|northeast| 37701.8768|\n",
            "| 31|  male|  36.3|       2|   yes|southwest|    38711.0|\n",
            "| 22|  male|  35.6|       0|   yes|southwest|  35585.576|\n",
            "| 28|  male|  36.4|       1|   yes|southwest|51194.55914|\n",
            "| 35|  male| 36.67|       1|   yes|northeast| 39774.2763|\n",
            "| 60|  male|  39.9|       0|   yes|southwest|  48173.361|\n",
            "| 36|  male|  35.2|       1|   yes|southeast|  38709.176|\n",
            "| 48|  male|  28.0|       1|   yes|southwest|  23568.272|\n",
            "| 36|  male| 34.43|       0|   yes|southeast| 37742.5757|\n",
            "| 58|  male|36.955|       2|   yes|northwest|47496.49445|\n",
            "| 18|  male| 31.68|       2|   yes|southeast| 34303.1672|\n",
            "| 53|female| 22.88|       1|   yes|southeast| 23244.7902|\n",
            "| 20|female| 22.42|       0|   yes|northwest| 14711.7438|\n",
            "| 28|  male| 23.98|       3|   yes|southeast| 17663.1442|\n",
            "| 27|female| 24.75|       0|   yes|southeast| 16577.7795|\n",
            "| 22|  male| 37.62|       1|   yes|southeast| 37165.1638|\n",
            "+---+------+------+--------+------+---------+-----------+\n",
            "only showing top 20 rows\n",
            "\n"
          ]
        }
      ]
    },
    {
      "cell_type": "code",
      "source": [
        "df.filter(df['age'] > 50).show()"
      ],
      "metadata": {
        "colab": {
          "base_uri": "https://localhost:8080/"
        },
        "id": "pWEb7YaqULO1",
        "outputId": "2fc50178-fa48-4d08-c69f-14ae27b45fe6"
      },
      "execution_count": null,
      "outputs": [
        {
          "output_type": "stream",
          "name": "stdout",
          "text": [
            "+---+------+------+--------+------+---------+-----------+\n",
            "|age|   sex|   bmi|children|smoker|   region|    charges|\n",
            "+---+------+------+--------+------+---------+-----------+\n",
            "| 60|female| 25.84|       0|    no|northwest|28923.13692|\n",
            "| 62|female| 26.29|       0|   yes|southeast| 27808.7251|\n",
            "| 56|female| 39.82|       0|    no|southeast| 11090.7178|\n",
            "| 52|female| 30.78|       1|    no|northeast| 10797.3362|\n",
            "| 56|  male|  40.3|       0|    no|southwest|  10602.385|\n",
            "| 60|female|36.005|       0|    no|northeast|13228.84695|\n",
            "| 59|female| 27.72|       3|    no|southeast| 14001.1338|\n",
            "| 63|female|23.085|       0|    no|northeast|14451.83515|\n",
            "| 55|female|32.775|       2|    no|northwest|12268.63225|\n",
            "| 63|  male| 28.31|       0|    no|northwest| 13770.0979|\n",
            "| 62|female|32.965|       3|    no|northwest|15612.19335|\n",
            "| 60|  male|  39.9|       0|   yes|southwest|  48173.361|\n",
            "| 55|  male|  37.3|       0|    no|southwest|20630.28351|\n",
            "| 60|female| 24.53|       0|    no|southeast| 12629.8967|\n",
            "| 58|  male|36.955|       2|   yes|northwest|47496.49445|\n",
            "| 58|female|31.825|       2|    no|northeast|13607.36875|\n",
            "| 53|female| 22.88|       1|   yes|southeast| 23244.7902|\n",
            "| 64|  male|  24.7|       1|    no|northwest|30166.61817|\n",
            "| 61|female|  39.1|       2|    no|southwest|  14235.072|\n",
            "| 53|female|  28.1|       3|    no|southwest|  11741.726|\n",
            "+---+------+------+--------+------+---------+-----------+\n",
            "only showing top 20 rows\n",
            "\n"
          ]
        }
      ]
    },
    {
      "cell_type": "code",
      "source": [
        "df.filter(df['age'] > 50).filter(df['smoker'] == 'yes').show()"
      ],
      "metadata": {
        "colab": {
          "base_uri": "https://localhost:8080/"
        },
        "id": "c-2MOCMoVBt8",
        "outputId": "995f9ea5-c0fb-463b-908f-2884e5d3d675"
      },
      "execution_count": null,
      "outputs": [
        {
          "output_type": "stream",
          "name": "stdout",
          "text": [
            "+---+------+------+--------+------+---------+-----------+\n",
            "|age|   sex|   bmi|children|smoker|   region|    charges|\n",
            "+---+------+------+--------+------+---------+-----------+\n",
            "| 62|female| 26.29|       0|   yes|southeast| 27808.7251|\n",
            "| 60|  male|  39.9|       0|   yes|southwest|  48173.361|\n",
            "| 58|  male|36.955|       2|   yes|northwest|47496.49445|\n",
            "| 53|female| 22.88|       1|   yes|southeast| 23244.7902|\n",
            "| 57|female| 31.16|       0|   yes|northwest| 43578.9394|\n",
            "| 59|  male| 29.83|       3|   yes|northeast| 30184.9367|\n",
            "| 64|female|  31.3|       2|   yes|southwest|  47291.055|\n",
            "| 56|  male| 19.95|       0|   yes|northeast| 22412.6485|\n",
            "| 61|female| 29.92|       3|   yes|southeast| 30942.1918|\n",
            "| 63|  male| 35.09|       0|   yes|southeast| 47055.5321|\n",
            "| 63|female|  37.7|       0|   yes|southwest|   48824.45|\n",
            "| 63|female| 27.74|       0|   yes|northeast| 29523.1656|\n",
            "| 63|female|  32.2|       2|   yes|southwest|  47305.305|\n",
            "| 54|  male| 34.21|       2|   yes|southeast| 44260.7499|\n",
            "| 56|  male| 33.63|       0|   yes|northwest| 43921.1837|\n",
            "| 52|  male| 24.32|       3|   yes|northeast| 24869.8368|\n",
            "| 54|  male|40.565|       3|   yes|northeast|48549.17835|\n",
            "| 59|female|36.765|       1|   yes|northeast|47896.79135|\n",
            "| 53|female| 22.61|       3|   yes|northeast| 24873.3849|\n",
            "| 64|female|  33.8|       1|   yes|southwest|   47928.03|\n",
            "+---+------+------+--------+------+---------+-----------+\n",
            "only showing top 20 rows\n",
            "\n"
          ]
        }
      ]
    },
    {
      "cell_type": "code",
      "source": [
        "df.orderBy('age', ascending=False).show()"
      ],
      "metadata": {
        "colab": {
          "base_uri": "https://localhost:8080/"
        },
        "id": "LF97UQE_V34Q",
        "outputId": "73178eb1-8505-465e-b186-78941ac9637f"
      },
      "execution_count": null,
      "outputs": [
        {
          "output_type": "stream",
          "name": "stdout",
          "text": [
            "+---+------+------+--------+------+---------+-----------+\n",
            "|age|   sex|   bmi|children|smoker|   region|    charges|\n",
            "+---+------+------+--------+------+---------+-----------+\n",
            "| 64|  male|  24.7|       1|    no|northwest|30166.61817|\n",
            "| 64|female|  31.3|       2|   yes|southwest|  47291.055|\n",
            "| 64|female| 39.33|       0|    no|northeast| 14901.5167|\n",
            "| 64|female|  33.8|       1|   yes|southwest|   47928.03|\n",
            "| 64|  male|  34.5|       0|    no|southwest|  13822.803|\n",
            "| 64|female|30.115|       3|    no|northwest|16455.70785|\n",
            "| 64|  male|  25.6|       2|    no|southwest|  14988.432|\n",
            "| 64|female|32.965|       0|    no|northwest|14692.66935|\n",
            "| 64|  male| 39.16|       1|    no|southeast| 14418.2804|\n",
            "| 64|  male| 33.88|       0|   yes|southeast| 46889.2612|\n",
            "| 64|  male| 40.48|       0|    no|southeast| 13831.1152|\n",
            "| 64|female| 39.05|       3|    no|southeast| 16085.1275|\n",
            "| 64|  male| 38.19|       0|    no|northeast| 14410.9321|\n",
            "| 64|female| 22.99|       0|   yes|southeast| 27037.9141|\n",
            "| 64|  male|37.905|       0|    no|northwest|14210.53595|\n",
            "| 64|female|  39.7|       0|    no|southwest|  14319.031|\n",
            "| 64|female| 35.97|       0|    no|southeast| 14313.8463|\n",
            "| 64|female|31.825|       2|    no|northeast|16069.08475|\n",
            "| 64|female|26.885|       0|   yes|northwest|29330.98315|\n",
            "| 64|  male| 26.41|       0|    no|northeast| 14394.5579|\n",
            "+---+------+------+--------+------+---------+-----------+\n",
            "only showing top 20 rows\n",
            "\n"
          ]
        }
      ]
    },
    {
      "cell_type": "code",
      "source": [
        "df.groupby(\"smoker\").mean('age', 'bmi', 'charges').show()"
      ],
      "metadata": {
        "colab": {
          "base_uri": "https://localhost:8080/"
        },
        "id": "Ym5tgXiFWpOo",
        "outputId": "4146da50-6243-448f-a5cf-90d0554c3dd5"
      },
      "execution_count": null,
      "outputs": [
        {
          "output_type": "stream",
          "name": "stdout",
          "text": [
            "+------+-----------------+------------------+-----------------+\n",
            "|smoker|         avg(age)|          avg(bmi)|     avg(charges)|\n",
            "+------+-----------------+------------------+-----------------+\n",
            "|    no|39.38533834586466|30.651795112781922|8434.268297856199|\n",
            "|   yes|38.51459854014598|30.708448905109503|32050.23183153285|\n",
            "+------+-----------------+------------------+-----------------+\n",
            "\n"
          ]
        }
      ]
    },
    {
      "cell_type": "code",
      "source": [
        "df.groupby(\"smoker\").max('age', 'bmi', 'charges').show()"
      ],
      "metadata": {
        "colab": {
          "base_uri": "https://localhost:8080/"
        },
        "id": "-7Al0AwcYIyr",
        "outputId": "8c0e7267-d9ad-40de-bbfe-094aea025816"
      },
      "execution_count": null,
      "outputs": [
        {
          "output_type": "stream",
          "name": "stdout",
          "text": [
            "+------+--------+--------+------------+\n",
            "|smoker|max(age)|max(bmi)|max(charges)|\n",
            "+------+--------+--------+------------+\n",
            "|    no|      64|   53.13| 36910.60803|\n",
            "|   yes|      64|   52.58| 63770.42801|\n",
            "+------+--------+--------+------------+\n",
            "\n"
          ]
        }
      ]
    },
    {
      "cell_type": "code",
      "source": [
        "df.groupby(\"smoker\").min('age', 'bmi', 'charges').show()"
      ],
      "metadata": {
        "colab": {
          "base_uri": "https://localhost:8080/"
        },
        "id": "gGyzfslSYWI0",
        "outputId": "cb352d37-9a21-460a-f287-ef00f764171f"
      },
      "execution_count": null,
      "outputs": [
        {
          "output_type": "stream",
          "name": "stdout",
          "text": [
            "+------+--------+--------+------------+\n",
            "|smoker|min(age)|min(bmi)|min(charges)|\n",
            "+------+--------+--------+------------+\n",
            "|    no|      18|   15.96|   1121.8739|\n",
            "|   yes|      18|  17.195|  12829.4551|\n",
            "+------+--------+--------+------------+\n",
            "\n"
          ]
        }
      ]
    },
    {
      "cell_type": "code",
      "source": [
        "df.select('age').show()"
      ],
      "metadata": {
        "colab": {
          "base_uri": "https://localhost:8080/"
        },
        "id": "vlKZ6DdoYa8r",
        "outputId": "bc682ab2-686e-40bf-95d5-84058fb6bef0"
      },
      "execution_count": null,
      "outputs": [
        {
          "output_type": "stream",
          "name": "stdout",
          "text": [
            "+---+\n",
            "|age|\n",
            "+---+\n",
            "| 19|\n",
            "| 18|\n",
            "| 28|\n",
            "| 33|\n",
            "| 32|\n",
            "| 31|\n",
            "| 46|\n",
            "| 37|\n",
            "| 37|\n",
            "| 60|\n",
            "| 25|\n",
            "| 62|\n",
            "| 23|\n",
            "| 56|\n",
            "| 27|\n",
            "| 19|\n",
            "| 52|\n",
            "| 23|\n",
            "| 56|\n",
            "| 30|\n",
            "+---+\n",
            "only showing top 20 rows\n",
            "\n"
          ]
        }
      ]
    },
    {
      "cell_type": "code",
      "source": [
        "df.filter(df['age'] > 50).filter(df['smoker'] == 'yes').orderBy(\"age\").show()"
      ],
      "metadata": {
        "colab": {
          "base_uri": "https://localhost:8080/"
        },
        "id": "XefGDai8Y41q",
        "outputId": "6531827e-b957-454b-d2c6-0d0c98e53de5"
      },
      "execution_count": null,
      "outputs": [
        {
          "output_type": "stream",
          "name": "stdout",
          "text": [
            "+---+------+------+--------+------+---------+-----------+\n",
            "|age|   sex|   bmi|children|smoker|   region|    charges|\n",
            "+---+------+------+--------+------+---------+-----------+\n",
            "| 51|female| 34.96|       2|   yes|northeast| 44641.1974|\n",
            "| 51|female| 37.05|       3|   yes|northeast| 46255.1125|\n",
            "| 51|female| 38.06|       0|   yes|southeast| 44400.4064|\n",
            "| 51|  male|  42.9|       2|   yes|southeast|  47462.894|\n",
            "| 51|  male| 23.21|       1|   yes|southeast| 22218.1149|\n",
            "| 51|  male|24.795|       2|   yes|northwest|23967.38305|\n",
            "| 52|  male|  41.8|       2|   yes|southeast|  47269.854|\n",
            "| 52|  male| 24.32|       3|   yes|northeast| 24869.8368|\n",
            "| 52|  male|34.485|       3|   yes|northwest|60021.39897|\n",
            "| 52|  male| 27.36|       0|   yes|northwest| 24393.6224|\n",
            "| 52|female|  25.3|       2|   yes|southeast|  24667.419|\n",
            "| 52|female| 24.13|       1|   yes|northwest| 23887.6627|\n",
            "| 53|female| 22.88|       1|   yes|southeast| 23244.7902|\n",
            "| 53|female| 22.61|       3|   yes|northeast| 24873.3849|\n",
            "| 53|  male|34.105|       0|   yes|northeast|43254.41795|\n",
            "| 53|  male|  20.9|       0|   yes|southeast|  21195.818|\n",
            "| 53|female| 36.86|       3|   yes|northwest| 46661.4424|\n",
            "| 54|  male| 34.21|       2|   yes|southeast| 44260.7499|\n",
            "| 54|  male|40.565|       3|   yes|northeast|48549.17835|\n",
            "| 54|  male|  25.1|       3|   yes|southwest|  25382.297|\n",
            "+---+------+------+--------+------+---------+-----------+\n",
            "only showing top 20 rows\n",
            "\n"
          ]
        }
      ]
    },
    {
      "cell_type": "code",
      "source": [
        "df.where((df['smoker'] == 'yes') & (df['region'] == 'northwest')).show()"
      ],
      "metadata": {
        "colab": {
          "base_uri": "https://localhost:8080/"
        },
        "id": "OxwivteKaBDS",
        "outputId": "5e43cd90-82f5-490d-85ef-8e929df801c8"
      },
      "execution_count": null,
      "outputs": [
        {
          "output_type": "stream",
          "name": "stdout",
          "text": [
            "+---+------+------+--------+------+---------+-----------+\n",
            "|age|   sex|   bmi|children|smoker|   region|    charges|\n",
            "+---+------+------+--------+------+---------+-----------+\n",
            "| 58|  male|36.955|       2|   yes|northwest|47496.49445|\n",
            "| 20|female| 22.42|       0|   yes|northwest| 14711.7438|\n",
            "| 45|  male|22.895|       2|   yes|northwest|21098.55405|\n",
            "| 57|female| 31.16|       0|   yes|northwest| 43578.9394|\n",
            "| 20|  male|28.025|       1|   yes|northwest|17560.37975|\n",
            "| 32|female|17.765|       2|   yes|northwest| 32734.1863|\n",
            "| 30|  male| 28.69|       3|   yes|northwest| 20745.9891|\n",
            "| 46|  male|30.495|       3|   yes|northwest|40720.55105|\n",
            "| 42|female|  26.6|       0|   yes|northwest|  21348.706|\n",
            "| 19|  male| 29.07|       0|   yes|northwest| 17352.6803|\n",
            "| 56|  male| 33.63|       0|   yes|northwest| 43921.1837|\n",
            "| 19|  male| 31.92|       0|   yes|northwest| 33750.2918|\n",
            "| 19|  male|36.955|       0|   yes|northwest|36219.40545|\n",
            "| 31|  male| 34.39|       3|   yes|northwest| 38746.3551|\n",
            "| 45|  male| 36.48|       2|   yes|northwest| 42760.5022|\n",
            "| 52|  male| 27.36|       0|   yes|northwest| 24393.6224|\n",
            "| 23|female| 28.31|       0|   yes|northwest| 18033.9679|\n",
            "| 63|female| 26.98|       0|   yes|northwest| 28950.4692|\n",
            "| 56|  male|26.695|       1|   yes|northwest|26109.32905|\n",
            "| 61|  male| 28.31|       1|   yes|northwest| 28868.6639|\n",
            "+---+------+------+--------+------+---------+-----------+\n",
            "only showing top 20 rows\n",
            "\n"
          ]
        }
      ]
    },
    {
      "cell_type": "code",
      "source": [
        "df.groupBy('smoker').pivot('region').avg('charges').show()"
      ],
      "metadata": {
        "id": "7koN3oCqbh0B",
        "colab": {
          "base_uri": "https://localhost:8080/"
        },
        "outputId": "ddea031e-d5a5-41e8-ad1e-bf84a70aedd4"
      },
      "execution_count": null,
      "outputs": [
        {
          "output_type": "stream",
          "name": "stdout",
          "text": [
            "+------+------------------+-----------------+-----------------+-----------------+\n",
            "|smoker|         northeast|        northwest|        southeast|        southwest|\n",
            "+------+------------------+-----------------+-----------------+-----------------+\n",
            "|    no| 9165.531671708171|8556.463715205993|8032.216308937727|8019.284513071162|\n",
            "|   yes|29673.536472835818|30192.00318241379|34844.99682362637| 32269.0634936207|\n",
            "+------+------------------+-----------------+-----------------+-----------------+\n",
            "\n"
          ]
        }
      ]
    },
    {
      "cell_type": "code",
      "source": [
        "df.groupBy('smoker', 'sex').pivot('region').avg('charges').show()"
      ],
      "metadata": {
        "colab": {
          "base_uri": "https://localhost:8080/"
        },
        "id": "VcVldYRpyYiH",
        "outputId": "19e8e81b-00a2-4623-d1e3-675f7e420482"
      },
      "execution_count": null,
      "outputs": [
        {
          "output_type": "stream",
          "name": "stdout",
          "text": [
            "+------+------+------------------+------------------+-----------------+------------------+\n",
            "|smoker|   sex|         northeast|         northwest|        southeast|         southwest|\n",
            "+------+------+------------------+------------------+-----------------+------------------+\n",
            "|    no|female| 9640.426983553025|  8786.99867866667|8440.205551942441| 8234.091260141842|\n",
            "|   yes|female| 28032.04639758621|29670.824945517237|33034.82071638889|31687.988429999998|\n",
            "|   yes|  male|30926.252582894744|30713.181419310342|36029.83936654546|32598.862854054067|\n",
            "|    no|  male| 8664.042222400003| 8320.689320757572|7609.003586716417|7778.9055342063475|\n",
            "+------+------+------------------+------------------+-----------------+------------------+\n",
            "\n"
          ]
        }
      ]
    },
    {
      "cell_type": "code",
      "source": [
        "df=df.withColumnRenamed(\"age\", \"Age\")\n",
        "df=df.withColumnRenamed(\"sex\", \"Sex\")\n",
        "df=df.withColumnRenamed(\"bmi\", \"BMI\")\n",
        "df=df.withColumnRenamed(\"children\", \"Children\")\n",
        "df=df.withColumnRenamed(\"smoker\", \"Smoker\")\n",
        "df=df.withColumnRenamed(\"region\", \"Region\")\n",
        "df=df.withColumnRenamed(\"charges\", \"Charges\")\n",
        "\n",
        "df.show(5)"
      ],
      "metadata": {
        "colab": {
          "base_uri": "https://localhost:8080/"
        },
        "id": "Vus2H21XzCHM",
        "outputId": "8423d185-0d35-42f6-eaf3-fe0f5e74cf4d"
      },
      "execution_count": null,
      "outputs": [
        {
          "output_type": "stream",
          "name": "stdout",
          "text": [
            "+---+------+------+--------+------+---------+-----------+\n",
            "|Age|   Sex|   BMI|Children|Smoker|   Region|    Charges|\n",
            "+---+------+------+--------+------+---------+-----------+\n",
            "| 19|female|  27.9|       0|   yes|southwest|  16884.924|\n",
            "| 18|  male| 33.77|       1|    no|southeast|  1725.5523|\n",
            "| 28|  male|  33.0|       3|    no|southeast|   4449.462|\n",
            "| 33|  male|22.705|       0|    no|northwest|21984.47061|\n",
            "| 32|  male| 28.88|       0|    no|northwest|  3866.8552|\n",
            "+---+------+------+--------+------+---------+-----------+\n",
            "only showing top 5 rows\n",
            "\n"
          ]
        }
      ]
    },
    {
      "cell_type": "code",
      "source": [
        "from pyspark.sql.functions import corr"
      ],
      "metadata": {
        "id": "oJL_go_Jzvgw"
      },
      "execution_count": null,
      "outputs": []
    },
    {
      "cell_type": "code",
      "source": [
        "data = df.withColumn('new_column', df['Age']+df['BMI'])\n",
        "data.show(5)"
      ],
      "metadata": {
        "colab": {
          "base_uri": "https://localhost:8080/"
        },
        "id": "a0v2E3Uc1GgV",
        "outputId": "67d68ddb-5749-4a82-d5de-91947ca2dd6e"
      },
      "execution_count": null,
      "outputs": [
        {
          "output_type": "stream",
          "name": "stdout",
          "text": [
            "+---+------+------+--------+------+---------+-----------+------------------+\n",
            "|Age|   Sex|   BMI|Children|Smoker|   Region|    Charges|        new_column|\n",
            "+---+------+------+--------+------+---------+-----------+------------------+\n",
            "| 19|female|  27.9|       0|   yes|southwest|  16884.924|              46.9|\n",
            "| 18|  male| 33.77|       1|    no|southeast|  1725.5523|             51.77|\n",
            "| 28|  male|  33.0|       3|    no|southeast|   4449.462|              61.0|\n",
            "| 33|  male|22.705|       0|    no|northwest|21984.47061|            55.705|\n",
            "| 32|  male| 28.88|       0|    no|northwest|  3866.8552|60.879999999999995|\n",
            "+---+------+------+--------+------+---------+-----------+------------------+\n",
            "only showing top 5 rows\n",
            "\n"
          ]
        }
      ]
    },
    {
      "cell_type": "code",
      "source": [
        ""
      ],
      "metadata": {
        "id": "wHQOJ4Ch2E-F"
      },
      "execution_count": null,
      "outputs": []
    }
  ]
}