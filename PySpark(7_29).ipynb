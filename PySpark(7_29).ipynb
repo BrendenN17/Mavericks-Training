{
  "nbformat": 4,
  "nbformat_minor": 0,
  "metadata": {
    "colab": {
      "name": "PySpark(7/29).ipynb",
      "provenance": [],
      "collapsed_sections": []
    },
    "kernelspec": {
      "name": "python3",
      "display_name": "Python 3"
    },
    "language_info": {
      "name": "python"
    }
  },
  "cells": [
    {
      "cell_type": "code",
      "execution_count": 1,
      "metadata": {
        "colab": {
          "base_uri": "https://localhost:8080/"
        },
        "id": "AHnvnOYxGP9s",
        "outputId": "e1f8f677-72d4-4fee-a933-81a3c02ac6a9"
      },
      "outputs": [
        {
          "output_type": "stream",
          "name": "stdout",
          "text": [
            "Looking in indexes: https://pypi.org/simple, https://us-python.pkg.dev/colab-wheels/public/simple/\n",
            "Collecting pyspark\n",
            "  Downloading pyspark-3.3.0.tar.gz (281.3 MB)\n",
            "\u001b[K     |████████████████████████████████| 281.3 MB 54 kB/s \n",
            "\u001b[?25hCollecting py4j==0.10.9.5\n",
            "  Downloading py4j-0.10.9.5-py2.py3-none-any.whl (199 kB)\n",
            "\u001b[K     |████████████████████████████████| 199 kB 68.0 MB/s \n",
            "\u001b[?25hBuilding wheels for collected packages: pyspark\n",
            "  Building wheel for pyspark (setup.py) ... \u001b[?25l\u001b[?25hdone\n",
            "  Created wheel for pyspark: filename=pyspark-3.3.0-py2.py3-none-any.whl size=281764026 sha256=135798a50f5349872641414812c35f6d8b552ce0c5c70946fcd0b1186fee6ace\n",
            "  Stored in directory: /root/.cache/pip/wheels/7a/8e/1b/f73a52650d2e5f337708d9f6a1750d451a7349a867f928b885\n",
            "Successfully built pyspark\n",
            "Installing collected packages: py4j, pyspark\n",
            "Successfully installed py4j-0.10.9.5 pyspark-3.3.0\n"
          ]
        }
      ],
      "source": [
        "!pip install pyspark\n",
        "from pyspark.sql import SparkSession"
      ]
    },
    {
      "cell_type": "code",
      "source": [
        "from google.colab import drive\n",
        "drive.mount('/content/gdrive')"
      ],
      "metadata": {
        "colab": {
          "base_uri": "https://localhost:8080/"
        },
        "id": "6aVRIs0zGaT0",
        "outputId": "ce1a6b1b-e559-4b1c-81ee-51da8509856d"
      },
      "execution_count": 2,
      "outputs": [
        {
          "output_type": "stream",
          "name": "stdout",
          "text": [
            "Mounted at /content/gdrive\n"
          ]
        }
      ]
    },
    {
      "cell_type": "markdown",
      "source": [
        "# Level1 DataFrame API (PySpark)"
      ],
      "metadata": {
        "id": "X7DRmP67V8iS"
      }
    },
    {
      "cell_type": "code",
      "source": [
        "file = 'gdrive/MyDrive/wc2018-players.csv'"
      ],
      "metadata": {
        "id": "Q7OmvQUTGc8t"
      },
      "execution_count": 3,
      "outputs": []
    },
    {
      "cell_type": "code",
      "source": [
        "spark=SparkSession.builder.appName('sparkSQL').getOrCreate()"
      ],
      "metadata": {
        "id": "ysdYh5wnHqvc"
      },
      "execution_count": 4,
      "outputs": []
    },
    {
      "cell_type": "code",
      "source": [
        "data = spark.read.csv(file, header=True, inferSchema=True)"
      ],
      "metadata": {
        "id": "i6gIUqDbHt23"
      },
      "execution_count": 5,
      "outputs": []
    },
    {
      "cell_type": "code",
      "source": [
        "data.show(10)"
      ],
      "metadata": {
        "colab": {
          "base_uri": "https://localhost:8080/"
        },
        "id": "JYfSL640Hw_u",
        "outputId": "76ff9319-4b05-411e-bd4c-99c1b41182bf"
      },
      "execution_count": 6,
      "outputs": [
        {
          "output_type": "stream",
          "name": "stdout",
          "text": [
            "+---------+---+----+------------------+----------+----------+--------------------+------+------+\n",
            "|     Team|  #|Pos.| FIFA Popular Name|Birth Date|Shirt Name|                Club|Height|Weight|\n",
            "+---------+---+----+------------------+----------+----------+--------------------+------+------+\n",
            "|Argentina|  3|  DF|TAGLIAFICO Nicolas|31.08.1992|TAGLIAFICO|      AFC Ajax (NED)|   169|    65|\n",
            "|Argentina| 22|  MF|    PAVON Cristian|21.01.1996|     PAVÓN|CA Boca Juniors (...|   169|    65|\n",
            "|Argentina| 15|  MF|    LANZINI Manuel|15.02.1993|   LANZINI|West Ham United F...|   167|    66|\n",
            "|Argentina| 18|  DF|    SALVIO Eduardo|13.07.1990|    SALVIO|    SL Benfica (POR)|   167|    69|\n",
            "|Argentina| 10|  FW|      MESSI Lionel|24.06.1987|     MESSI|  FC Barcelona (ESP)|   170|    72|\n",
            "|Argentina|  4|  DF|  ANSALDI Cristian|20.09.1986|   ANSALDI|     Torino FC (ITA)|   181|    73|\n",
            "|Argentina|  5|  MF|      BIGLIA Lucas|30.01.1986|    BIGLIA|      AC Milan (ITA)|   175|    73|\n",
            "|Argentina|  7|  MF|       BANEGA Ever|29.06.1988|    BANEGA|    Sevilla FC (ESP)|   175|    73|\n",
            "|Argentina| 14|  DF| MASCHERANO Javier|08.06.1984|MASCHERANO|Hebei China Fortu...|   174|    73|\n",
            "|Argentina| 21|  FW|      DYBALA Paulo|15.11.1993|    DYBALA|   Juventus FC (ITA)|   177|    73|\n",
            "+---------+---+----+------------------+----------+----------+--------------------+------+------+\n",
            "only showing top 10 rows\n",
            "\n"
          ]
        }
      ]
    },
    {
      "cell_type": "code",
      "source": [
        "data.printSchema()"
      ],
      "metadata": {
        "colab": {
          "base_uri": "https://localhost:8080/"
        },
        "id": "fPy6PnO_H1un",
        "outputId": "d56938c3-137d-43c4-aab5-46cb9dbdfa7e"
      },
      "execution_count": 7,
      "outputs": [
        {
          "output_type": "stream",
          "name": "stdout",
          "text": [
            "root\n",
            " |-- Team: string (nullable = true)\n",
            " |-- #: integer (nullable = true)\n",
            " |-- Pos.: string (nullable = true)\n",
            " |-- FIFA Popular Name: string (nullable = true)\n",
            " |-- Birth Date: string (nullable = true)\n",
            " |-- Shirt Name: string (nullable = true)\n",
            " |-- Club: string (nullable = true)\n",
            " |-- Height: integer (nullable = true)\n",
            " |-- Weight: integer (nullable = true)\n",
            "\n"
          ]
        }
      ]
    },
    {
      "cell_type": "code",
      "source": [
        "#1. Show names & height of players by adding 1 to the height column\n",
        "\n",
        "data.select('FIFA Popular Name', data['Height'] + 1).show(5)"
      ],
      "metadata": {
        "colab": {
          "base_uri": "https://localhost:8080/"
        },
        "id": "pa9M82XGIBLg",
        "outputId": "2e8d31fb-79a2-4034-d5f0-6b305baf4642"
      },
      "execution_count": 8,
      "outputs": [
        {
          "output_type": "stream",
          "name": "stdout",
          "text": [
            "+------------------+------------+\n",
            "| FIFA Popular Name|(Height + 1)|\n",
            "+------------------+------------+\n",
            "|TAGLIAFICO Nicolas|         170|\n",
            "|    PAVON Cristian|         170|\n",
            "|    LANZINI Manuel|         168|\n",
            "|    SALVIO Eduardo|         168|\n",
            "|      MESSI Lionel|         171|\n",
            "+------------------+------------+\n",
            "only showing top 5 rows\n",
            "\n"
          ]
        }
      ]
    },
    {
      "cell_type": "code",
      "source": [
        "#2. Show player name & return True for players (height > 170) and False for players (height < 170)\n",
        "\n",
        "from pyspark.sql.functions import udf\n",
        "\n",
        "def helper(a):\n",
        "  if a > 170:\n",
        "    return True\n",
        "  else:\n",
        "    return False\n",
        "\n",
        "helper_df = udf(helper)\n",
        "\n",
        "newdf = data.withColumn('Height > 170?',helper_df(data['Height']))\n",
        "newdf.select('FIFA Popular Name', 'Height > 170?').show()"
      ],
      "metadata": {
        "colab": {
          "base_uri": "https://localhost:8080/"
        },
        "id": "MVJmqT9aIs4c",
        "outputId": "ed4a4a77-ace1-4728-bdbb-cd865f7dd94a"
      },
      "execution_count": 9,
      "outputs": [
        {
          "output_type": "stream",
          "name": "stdout",
          "text": [
            "+------------------+-------------+\n",
            "| FIFA Popular Name|Height > 170?|\n",
            "+------------------+-------------+\n",
            "|TAGLIAFICO Nicolas|        false|\n",
            "|    PAVON Cristian|        false|\n",
            "|    LANZINI Manuel|        false|\n",
            "|    SALVIO Eduardo|        false|\n",
            "|      MESSI Lionel|        false|\n",
            "|  ANSALDI Cristian|         true|\n",
            "|      BIGLIA Lucas|         true|\n",
            "|       BANEGA Ever|         true|\n",
            "| MASCHERANO Javier|         true|\n",
            "|      DYBALA Paulo|         true|\n",
            "|     AGUERO Sergio|         true|\n",
            "|   HIGUAIN Gonzalo|         true|\n",
            "|    DI MARIA Angel|         true|\n",
            "|  LO CELSO Giovani|         true|\n",
            "|  MEZA Maximiliano|         true|\n",
            "|      ACUNA Marcos|         true|\n",
            "|CABALLERO Wilfredo|         true|\n",
            "|   MERCADO Gabriel|         true|\n",
            "|  OTAMENDI Nicolas|         true|\n",
            "|       ROJO Marcos|         true|\n",
            "+------------------+-------------+\n",
            "only showing top 20 rows\n",
            "\n"
          ]
        }
      ]
    },
    {
      "cell_type": "code",
      "source": [
        "#3. Same as above but asking for 0/1 not true/false\n",
        "\n",
        "def helper(a):\n",
        "  if a > 170:\n",
        "    return 1\n",
        "  else:\n",
        "    return 0\n",
        "\n",
        "helper_df = udf(helper)\n",
        "\n",
        "newdf = data.withColumn('Height > 170?',helper_df(data['Height']))\n",
        "newdf.select('FIFA Popular Name', 'Height > 170?').show()"
      ],
      "metadata": {
        "colab": {
          "base_uri": "https://localhost:8080/"
        },
        "id": "UTPx5eXTMe33",
        "outputId": "592a9507-943e-4628-dab2-cffe5cb3714d"
      },
      "execution_count": 10,
      "outputs": [
        {
          "output_type": "stream",
          "name": "stdout",
          "text": [
            "+------------------+-------------+\n",
            "| FIFA Popular Name|Height > 170?|\n",
            "+------------------+-------------+\n",
            "|TAGLIAFICO Nicolas|            0|\n",
            "|    PAVON Cristian|            0|\n",
            "|    LANZINI Manuel|            0|\n",
            "|    SALVIO Eduardo|            0|\n",
            "|      MESSI Lionel|            0|\n",
            "|  ANSALDI Cristian|            1|\n",
            "|      BIGLIA Lucas|            1|\n",
            "|       BANEGA Ever|            1|\n",
            "| MASCHERANO Javier|            1|\n",
            "|      DYBALA Paulo|            1|\n",
            "|     AGUERO Sergio|            1|\n",
            "|   HIGUAIN Gonzalo|            1|\n",
            "|    DI MARIA Angel|            1|\n",
            "|  LO CELSO Giovani|            1|\n",
            "|  MEZA Maximiliano|            1|\n",
            "|      ACUNA Marcos|            1|\n",
            "|CABALLERO Wilfredo|            1|\n",
            "|   MERCADO Gabriel|            1|\n",
            "|  OTAMENDI Nicolas|            1|\n",
            "|       ROJO Marcos|            1|\n",
            "+------------------+-------------+\n",
            "only showing top 20 rows\n",
            "\n"
          ]
        }
      ]
    },
    {
      "cell_type": "code",
      "source": [
        "#4. Name of the shortest player\n",
        "\n",
        "data.orderBy(\"Height\", ascending=True).select(\"FIFA Popular Name\").show(1)"
      ],
      "metadata": {
        "colab": {
          "base_uri": "https://localhost:8080/"
        },
        "id": "YXi5RZ0mOpsG",
        "outputId": "c4e6cd77-a80b-4107-81e9-cccb6c6c9a22"
      },
      "execution_count": 11,
      "outputs": [
        {
          "output_type": "stream",
          "name": "stdout",
          "text": [
            "+-----------------+\n",
            "|FIFA Popular Name|\n",
            "+-----------------+\n",
            "|   YAHIA ALSHEHRI|\n",
            "+-----------------+\n",
            "only showing top 1 row\n",
            "\n"
          ]
        }
      ]
    },
    {
      "cell_type": "code",
      "source": [
        "#5. Find the tallest player of all\n",
        "\n",
        "data.orderBy(\"Height\", ascending=False).show(1)"
      ],
      "metadata": {
        "colab": {
          "base_uri": "https://localhost:8080/"
        },
        "id": "85rsLYvtPFm6",
        "outputId": "b68db537-1318-4c49-8b68-c0742a7da21f"
      },
      "execution_count": 12,
      "outputs": [
        {
          "output_type": "stream",
          "name": "stdout",
          "text": [
            "+-------+---+----+-----------------+----------+----------+--------------+------+------+\n",
            "|   Team|  #|Pos.|FIFA Popular Name|Birth Date|Shirt Name|          Club|Height|Weight|\n",
            "+-------+---+----+-----------------+----------+----------+--------------+------+------+\n",
            "|Croatia| 12|  GK|    KALINIC Lovre|03.04.1990|L. KALINIĆ|KAA Gent (BEL)|   201|    96|\n",
            "+-------+---+----+-----------------+----------+----------+--------------+------+------+\n",
            "only showing top 1 row\n",
            "\n"
          ]
        }
      ]
    },
    {
      "cell_type": "code",
      "source": [
        "#6. Find average height of players from Argentina\n",
        "\n",
        "new_data = data.groupBy(\"Team\").mean()[['Team', 'avg(Height)']].filter(data[\"Team\"] == \"Argentina\")\n",
        "new_data.show()"
      ],
      "metadata": {
        "colab": {
          "base_uri": "https://localhost:8080/"
        },
        "id": "S6YZMqnZQklP",
        "outputId": "194fa9a6-a37d-49c5-d1c4-224c7ae3ce62"
      },
      "execution_count": 13,
      "outputs": [
        {
          "output_type": "stream",
          "name": "stdout",
          "text": [
            "+---------+------------------+\n",
            "|     Team|       avg(Height)|\n",
            "+---------+------------------+\n",
            "|Argentina|178.43478260869566|\n",
            "+---------+------------------+\n",
            "\n"
          ]
        }
      ]
    },
    {
      "cell_type": "markdown",
      "source": [
        "# Level 2: Spark SQL"
      ],
      "metadata": {
        "id": "cYDoUjASWD-6"
      }
    },
    {
      "cell_type": "code",
      "source": [
        "mfile = 'gdrive/MyDrive/movies.csv'\n",
        "rfile = 'gdrive/MyDrive/ratings.csv'"
      ],
      "metadata": {
        "id": "eSyRBIFVRUuT"
      },
      "execution_count": 14,
      "outputs": []
    },
    {
      "cell_type": "code",
      "source": [
        "mdata = spark.read.csv(mfile, header=True, inferSchema=True)\n",
        "rdata = spark.read.csv(rfile, header=True, inferSchema=True)"
      ],
      "metadata": {
        "id": "tKQp7c5RUzgm"
      },
      "execution_count": 15,
      "outputs": []
    },
    {
      "cell_type": "code",
      "source": [
        "mdata.show(5)"
      ],
      "metadata": {
        "colab": {
          "base_uri": "https://localhost:8080/"
        },
        "id": "c-s44Y3jWq07",
        "outputId": "cb966b59-9639-4248-ac9b-b7b1644bc2db"
      },
      "execution_count": 16,
      "outputs": [
        {
          "output_type": "stream",
          "name": "stdout",
          "text": [
            "+-------+--------------------+--------------------+\n",
            "|movieId|               title|              genres|\n",
            "+-------+--------------------+--------------------+\n",
            "|      1|    Toy Story (1995)|Adventure|Animati...|\n",
            "|      2|      Jumanji (1995)|Adventure|Childre...|\n",
            "|      3|Grumpier Old Men ...|      Comedy|Romance|\n",
            "|      4|Waiting to Exhale...|Comedy|Drama|Romance|\n",
            "|      5|Father of the Bri...|              Comedy|\n",
            "+-------+--------------------+--------------------+\n",
            "only showing top 5 rows\n",
            "\n"
          ]
        }
      ]
    },
    {
      "cell_type": "code",
      "source": [
        "rdata.show(5)"
      ],
      "metadata": {
        "colab": {
          "base_uri": "https://localhost:8080/"
        },
        "id": "FBnutfGeWvxS",
        "outputId": "b6ff7d64-f781-4456-8cac-958a789c6e5a"
      },
      "execution_count": 17,
      "outputs": [
        {
          "output_type": "stream",
          "name": "stdout",
          "text": [
            "+------+-------+------+----------+\n",
            "|userId|movieId|rating| timestamp|\n",
            "+------+-------+------+----------+\n",
            "|     1|     31|   2.5|1260759144|\n",
            "|     1|   1029|   3.0|1260759179|\n",
            "|     1|   1061|   3.0|1260759182|\n",
            "|     1|   1129|   2.0|1260759185|\n",
            "|     1|   1172|   4.0|1260759205|\n",
            "+------+-------+------+----------+\n",
            "only showing top 5 rows\n",
            "\n"
          ]
        }
      ]
    },
    {
      "cell_type": "code",
      "source": [
        "from pyspark.sql.functions import *\n",
        "\n",
        "df = mdata.join(rdata, [\"movieId\"])\n",
        "df.createOrReplaceTempView('movie')\n",
        "df.printSchema() #df is my new and combined dataframe from moveis and ratings"
      ],
      "metadata": {
        "colab": {
          "base_uri": "https://localhost:8080/"
        },
        "id": "B3uBsDPnWxA6",
        "outputId": "2478fa74-fdd2-4f41-c4e3-be69a41ae3d3"
      },
      "execution_count": 18,
      "outputs": [
        {
          "output_type": "stream",
          "name": "stdout",
          "text": [
            "root\n",
            " |-- movieId: integer (nullable = true)\n",
            " |-- title: string (nullable = true)\n",
            " |-- genres: string (nullable = true)\n",
            " |-- userId: integer (nullable = true)\n",
            " |-- rating: double (nullable = true)\n",
            " |-- timestamp: integer (nullable = true)\n",
            "\n"
          ]
        }
      ]
    },
    {
      "cell_type": "code",
      "source": [
        "#1. Find a list of the oldest released movies\n",
        "\n",
        "newcol = spark.sql(\"\"\"select substring(title, -5,4) as year from movie\"\"\")\n",
        "spark.sql(\"ALTER TABLE movie ADD COLUMN year int\").show()"
      ],
      "metadata": {
        "colab": {
          "base_uri": "https://localhost:8080/",
          "height": 346
        },
        "id": "0vSmaB00eg0X",
        "outputId": "d01d4eb0-3f6c-41b4-82d1-2807402e233f"
      },
      "execution_count": 28,
      "outputs": [
        {
          "output_type": "error",
          "ename": "AnalysisException",
          "evalue": "ignored",
          "traceback": [
            "\u001b[0;31m---------------------------------------------------------------------------\u001b[0m",
            "\u001b[0;31mAnalysisException\u001b[0m                         Traceback (most recent call last)",
            "\u001b[0;32m<ipython-input-28-85b6dccf358c>\u001b[0m in \u001b[0;36m<module>\u001b[0;34m()\u001b[0m\n\u001b[1;32m      2\u001b[0m \u001b[0;34m\u001b[0m\u001b[0m\n\u001b[1;32m      3\u001b[0m \u001b[0mnewcol\u001b[0m \u001b[0;34m=\u001b[0m \u001b[0mspark\u001b[0m\u001b[0;34m.\u001b[0m\u001b[0msql\u001b[0m\u001b[0;34m(\u001b[0m\u001b[0;34m\"\"\"select substring(title, -5,4) as year from movie\"\"\"\u001b[0m\u001b[0;34m)\u001b[0m\u001b[0;34m\u001b[0m\u001b[0;34m\u001b[0m\u001b[0m\n\u001b[0;32m----> 4\u001b[0;31m \u001b[0mspark\u001b[0m\u001b[0;34m.\u001b[0m\u001b[0msql\u001b[0m\u001b[0;34m(\u001b[0m\u001b[0;34m\"ALTER TABLE movie ADD COLUMN year int\"\u001b[0m\u001b[0;34m)\u001b[0m\u001b[0;34m.\u001b[0m\u001b[0mshow\u001b[0m\u001b[0;34m(\u001b[0m\u001b[0;34m)\u001b[0m\u001b[0;34m\u001b[0m\u001b[0;34m\u001b[0m\u001b[0m\n\u001b[0m",
            "\u001b[0;32m/usr/local/lib/python3.7/dist-packages/pyspark/sql/session.py\u001b[0m in \u001b[0;36msql\u001b[0;34m(self, sqlQuery, **kwargs)\u001b[0m\n\u001b[1;32m   1032\u001b[0m             \u001b[0msqlQuery\u001b[0m \u001b[0;34m=\u001b[0m \u001b[0mformatter\u001b[0m\u001b[0;34m.\u001b[0m\u001b[0mformat\u001b[0m\u001b[0;34m(\u001b[0m\u001b[0msqlQuery\u001b[0m\u001b[0;34m,\u001b[0m \u001b[0;34m**\u001b[0m\u001b[0mkwargs\u001b[0m\u001b[0;34m)\u001b[0m\u001b[0;34m\u001b[0m\u001b[0;34m\u001b[0m\u001b[0m\n\u001b[1;32m   1033\u001b[0m         \u001b[0;32mtry\u001b[0m\u001b[0;34m:\u001b[0m\u001b[0;34m\u001b[0m\u001b[0;34m\u001b[0m\u001b[0m\n\u001b[0;32m-> 1034\u001b[0;31m             \u001b[0;32mreturn\u001b[0m \u001b[0mDataFrame\u001b[0m\u001b[0;34m(\u001b[0m\u001b[0mself\u001b[0m\u001b[0;34m.\u001b[0m\u001b[0m_jsparkSession\u001b[0m\u001b[0;34m.\u001b[0m\u001b[0msql\u001b[0m\u001b[0;34m(\u001b[0m\u001b[0msqlQuery\u001b[0m\u001b[0;34m)\u001b[0m\u001b[0;34m,\u001b[0m \u001b[0mself\u001b[0m\u001b[0;34m)\u001b[0m\u001b[0;34m\u001b[0m\u001b[0;34m\u001b[0m\u001b[0m\n\u001b[0m\u001b[1;32m   1035\u001b[0m         \u001b[0;32mfinally\u001b[0m\u001b[0;34m:\u001b[0m\u001b[0;34m\u001b[0m\u001b[0;34m\u001b[0m\u001b[0m\n\u001b[1;32m   1036\u001b[0m             \u001b[0;32mif\u001b[0m \u001b[0mlen\u001b[0m\u001b[0;34m(\u001b[0m\u001b[0mkwargs\u001b[0m\u001b[0;34m)\u001b[0m \u001b[0;34m>\u001b[0m \u001b[0;36m0\u001b[0m\u001b[0;34m:\u001b[0m\u001b[0;34m\u001b[0m\u001b[0;34m\u001b[0m\u001b[0m\n",
            "\u001b[0;32m/usr/local/lib/python3.7/dist-packages/py4j/java_gateway.py\u001b[0m in \u001b[0;36m__call__\u001b[0;34m(self, *args)\u001b[0m\n\u001b[1;32m   1320\u001b[0m         \u001b[0manswer\u001b[0m \u001b[0;34m=\u001b[0m \u001b[0mself\u001b[0m\u001b[0;34m.\u001b[0m\u001b[0mgateway_client\u001b[0m\u001b[0;34m.\u001b[0m\u001b[0msend_command\u001b[0m\u001b[0;34m(\u001b[0m\u001b[0mcommand\u001b[0m\u001b[0;34m)\u001b[0m\u001b[0;34m\u001b[0m\u001b[0;34m\u001b[0m\u001b[0m\n\u001b[1;32m   1321\u001b[0m         return_value = get_return_value(\n\u001b[0;32m-> 1322\u001b[0;31m             answer, self.gateway_client, self.target_id, self.name)\n\u001b[0m\u001b[1;32m   1323\u001b[0m \u001b[0;34m\u001b[0m\u001b[0m\n\u001b[1;32m   1324\u001b[0m         \u001b[0;32mfor\u001b[0m \u001b[0mtemp_arg\u001b[0m \u001b[0;32min\u001b[0m \u001b[0mtemp_args\u001b[0m\u001b[0;34m:\u001b[0m\u001b[0;34m\u001b[0m\u001b[0;34m\u001b[0m\u001b[0m\n",
            "\u001b[0;32m/usr/local/lib/python3.7/dist-packages/pyspark/sql/utils.py\u001b[0m in \u001b[0;36mdeco\u001b[0;34m(*a, **kw)\u001b[0m\n\u001b[1;32m    194\u001b[0m                 \u001b[0;31m# Hide where the exception came from that shows a non-Pythonic\u001b[0m\u001b[0;34m\u001b[0m\u001b[0;34m\u001b[0m\u001b[0;34m\u001b[0m\u001b[0m\n\u001b[1;32m    195\u001b[0m                 \u001b[0;31m# JVM exception message.\u001b[0m\u001b[0;34m\u001b[0m\u001b[0;34m\u001b[0m\u001b[0;34m\u001b[0m\u001b[0m\n\u001b[0;32m--> 196\u001b[0;31m                 \u001b[0;32mraise\u001b[0m \u001b[0mconverted\u001b[0m \u001b[0;32mfrom\u001b[0m \u001b[0;32mNone\u001b[0m\u001b[0;34m\u001b[0m\u001b[0;34m\u001b[0m\u001b[0m\n\u001b[0m\u001b[1;32m    197\u001b[0m             \u001b[0;32melse\u001b[0m\u001b[0;34m:\u001b[0m\u001b[0;34m\u001b[0m\u001b[0;34m\u001b[0m\u001b[0m\n\u001b[1;32m    198\u001b[0m                 \u001b[0;32mraise\u001b[0m\u001b[0;34m\u001b[0m\u001b[0;34m\u001b[0m\u001b[0m\n",
            "\u001b[0;31mAnalysisException\u001b[0m: movie is a temp view. 'ALTER TABLE ... ADD COLUMN' expects a table.; line 1 pos 12"
          ]
        }
      ]
    },
    {
      "cell_type": "code",
      "source": [
        "#2. How many movies are released each year\n",
        "\n"
      ],
      "metadata": {
        "id": "1t7Kosuta4XW"
      },
      "execution_count": 59,
      "outputs": []
    },
    {
      "cell_type": "code",
      "source": [
        "#3. Find the total number of movies for each rating\n",
        "\n",
        "spark.sql('select rating, count(rating) as `Total Ratings` from movie group By rating order by rating DESC').show()"
      ],
      "metadata": {
        "colab": {
          "base_uri": "https://localhost:8080/"
        },
        "id": "lquTkfTohlpL",
        "outputId": "ca3f6cde-6107-4028-c25c-f7cc43bb4d00"
      },
      "execution_count": 19,
      "outputs": [
        {
          "output_type": "stream",
          "name": "stdout",
          "text": [
            "+------+-------------+\n",
            "|rating|Total Ratings|\n",
            "+------+-------------+\n",
            "|   5.0|        15095|\n",
            "|   4.5|         7723|\n",
            "|   4.0|        28750|\n",
            "|   3.5|        10538|\n",
            "|   3.0|        20064|\n",
            "|   2.5|         4449|\n",
            "|   2.0|         7271|\n",
            "|   1.5|         1687|\n",
            "|   1.0|         3326|\n",
            "|   0.5|         1101|\n",
            "+------+-------------+\n",
            "\n"
          ]
        }
      ]
    },
    {
      "cell_type": "code",
      "source": [
        "#4. Find the number of users that rated each movie\n",
        "\n",
        "spark.sql('select title, count(distinct userId) as `Total Num Users Rated` from movie group By title order by count(userId) DESC').show(5)"
      ],
      "metadata": {
        "colab": {
          "base_uri": "https://localhost:8080/"
        },
        "id": "5RQeIMKhhswR",
        "outputId": "42dde1c4-6435-4467-b1ff-bdeebde55316"
      },
      "execution_count": 20,
      "outputs": [
        {
          "output_type": "stream",
          "name": "stdout",
          "text": [
            "+--------------------+---------------------+\n",
            "|               title|Total Num Users Rated|\n",
            "+--------------------+---------------------+\n",
            "| Forrest Gump (1994)|                  341|\n",
            "| Pulp Fiction (1994)|                  324|\n",
            "|Shawshank Redempt...|                  311|\n",
            "|Silence of the La...|                  304|\n",
            "|Star Wars: Episod...|                  291|\n",
            "+--------------------+---------------------+\n",
            "only showing top 5 rows\n",
            "\n"
          ]
        }
      ]
    },
    {
      "cell_type": "code",
      "source": [
        "#5. Whats the total rating for each movie?\n",
        "\n",
        "spark.sql('select title, sum(rating) as `Total Rating(sum)` from movie group by title order by sum(rating) DESC').show(5)"
      ],
      "metadata": {
        "colab": {
          "base_uri": "https://localhost:8080/"
        },
        "id": "ercwTp_hhyw5",
        "outputId": "af614a9c-b54d-4762-d33b-580c9cf9296d"
      },
      "execution_count": 21,
      "outputs": [
        {
          "output_type": "stream",
          "name": "stdout",
          "text": [
            "+--------------------+-----------------+\n",
            "|               title|Total Rating(sum)|\n",
            "+--------------------+-----------------+\n",
            "|Shawshank Redempt...|           1395.5|\n",
            "| Forrest Gump (1994)|           1382.5|\n",
            "| Pulp Fiction (1994)|           1379.0|\n",
            "|Silence of the La...|           1258.0|\n",
            "|Star Wars: Episod...|           1228.5|\n",
            "+--------------------+-----------------+\n",
            "only showing top 5 rows\n",
            "\n"
          ]
        }
      ]
    },
    {
      "cell_type": "code",
      "source": [
        "#6. Whats the average rating for each movie?\n",
        "\n",
        "spark.sql('select title, avg(rating) as `Average Rating` from movie group by title').show()"
      ],
      "metadata": {
        "colab": {
          "base_uri": "https://localhost:8080/"
        },
        "id": "cc7UCW1oh2lh",
        "outputId": "babe2db0-1ca6-4b62-9e07-b34c5b365f06"
      },
      "execution_count": 22,
      "outputs": [
        {
          "output_type": "stream",
          "name": "stdout",
          "text": [
            "+--------------------+------------------+\n",
            "|               title|    Average Rating|\n",
            "+--------------------+------------------+\n",
            "|Heavenly Creature...|3.6511627906976742|\n",
            "|Men in Black (a.k...| 3.663157894736842|\n",
            "|Snow White and th...|3.6619718309859155|\n",
            "|       Psycho (1960)| 4.253246753246753|\n",
            "|   Annie Hall (1977)|           4.09375|\n",
            "|First Blood (Ramb...|3.4722222222222223|\n",
            "|When We Were King...|            4.4375|\n",
            "|In the Heat of th...| 3.909090909090909|\n",
            "|    Elizabeth (1998)|3.7291666666666665|\n",
            "|Man Bites Dog (C'...|              3.25|\n",
            "|One False Move (1...|3.5714285714285716|\n",
            "|       Quills (2000)|           3.03125|\n",
            "|Before Night Fall...|3.8333333333333335|\n",
            "|O Brother, Where ...|             3.875|\n",
            "|Captain Corelli's...|2.3333333333333335|\n",
            "|22 Jump Street (2...|             3.875|\n",
            "|Night of the Livi...| 4.111111111111111|\n",
            "| If Lucy Fell (1996)|               2.8|\n",
            "|Mozart and the Wh...|               3.0|\n",
            "|Hello, Dolly! (1969)|              4.25|\n",
            "+--------------------+------------------+\n",
            "only showing top 20 rows\n",
            "\n"
          ]
        }
      ]
    },
    {
      "cell_type": "code",
      "source": [
        ""
      ],
      "metadata": {
        "id": "vfsb65QBwd5p"
      },
      "execution_count": null,
      "outputs": []
    }
  ]
}