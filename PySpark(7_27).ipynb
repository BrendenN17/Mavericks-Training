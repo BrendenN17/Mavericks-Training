{
  "nbformat": 4,
  "nbformat_minor": 0,
  "metadata": {
    "colab": {
      "name": "PySpark(7/27).ipynb",
      "provenance": [],
      "collapsed_sections": []
    },
    "kernelspec": {
      "name": "python3",
      "display_name": "Python 3"
    },
    "language_info": {
      "name": "python"
    }
  },
  "cells": [
    {
      "cell_type": "code",
      "execution_count": null,
      "metadata": {
        "colab": {
          "base_uri": "https://localhost:8080/"
        },
        "id": "HgVFuXz0zy04",
        "outputId": "87869a28-cf56-48ba-d50e-5a49aad9d144"
      },
      "outputs": [
        {
          "output_type": "stream",
          "name": "stdout",
          "text": [
            "Looking in indexes: https://pypi.org/simple, https://us-python.pkg.dev/colab-wheels/public/simple/\n",
            "Collecting pyspark\n",
            "  Downloading pyspark-3.3.0.tar.gz (281.3 MB)\n",
            "\u001b[K     |████████████████████████████████| 281.3 MB 42 kB/s \n",
            "\u001b[?25hCollecting py4j==0.10.9.5\n",
            "  Downloading py4j-0.10.9.5-py2.py3-none-any.whl (199 kB)\n",
            "\u001b[K     |████████████████████████████████| 199 kB 42.9 MB/s \n",
            "\u001b[?25hBuilding wheels for collected packages: pyspark\n",
            "  Building wheel for pyspark (setup.py) ... \u001b[?25l\u001b[?25hdone\n",
            "  Created wheel for pyspark: filename=pyspark-3.3.0-py2.py3-none-any.whl size=281764026 sha256=9717d8b3cac881263f2826f3423fc544366cb05ba2213caa08e439c6465616ff\n",
            "  Stored in directory: /root/.cache/pip/wheels/7a/8e/1b/f73a52650d2e5f337708d9f6a1750d451a7349a867f928b885\n",
            "Successfully built pyspark\n",
            "Installing collected packages: py4j, pyspark\n",
            "Successfully installed py4j-0.10.9.5 pyspark-3.3.0\n"
          ]
        }
      ],
      "source": [
        "!pip install pyspark\n",
        "from pyspark.sql import SparkSession"
      ]
    },
    {
      "cell_type": "code",
      "source": [
        "from google.colab import drive\n",
        "drive.mount('/content/gdrive')"
      ],
      "metadata": {
        "colab": {
          "base_uri": "https://localhost:8080/"
        },
        "id": "-PKpZYH93g_S",
        "outputId": "bff67753-0669-4658-821c-521362fb769f"
      },
      "execution_count": null,
      "outputs": [
        {
          "output_type": "stream",
          "name": "stdout",
          "text": [
            "Mounted at /content/gdrive\n"
          ]
        }
      ]
    },
    {
      "cell_type": "code",
      "source": [
        "bank_file = 'gdrive/MyDrive/Bank_churn_modelling - Copy.csv'\n",
        "stock_file = 'gdrive/MyDrive/appl_stock.csv'"
      ],
      "metadata": {
        "id": "DHWBmR3Q342a"
      },
      "execution_count": null,
      "outputs": []
    },
    {
      "cell_type": "code",
      "source": [
        "spark=SparkSession.builder.appName('spark_df').getOrCreate()"
      ],
      "metadata": {
        "id": "b9_hEhGj1Xbd"
      },
      "execution_count": null,
      "outputs": []
    },
    {
      "cell_type": "code",
      "source": [
        "df_bank = spark.read.csv(bank_file, header=True, inferSchema=True)\n",
        "df_stock = spark.read.csv(stock_file, header=True, inferSchema=True)"
      ],
      "metadata": {
        "id": "S2GHokrZ1r-S"
      },
      "execution_count": null,
      "outputs": []
    },
    {
      "cell_type": "code",
      "source": [
        "df_bank.show(10)\n",
        "df_stock.show(10)"
      ],
      "metadata": {
        "colab": {
          "base_uri": "https://localhost:8080/"
        },
        "id": "flgyLU1y1xY6",
        "outputId": "56edc080-455a-4f9e-f993-e8c0c102e595"
      },
      "execution_count": null,
      "outputs": [
        {
          "output_type": "stream",
          "name": "stdout",
          "text": [
            "+---------+----------+--------+-----------+---------+------+---+------+---------+-------------+---------+--------------+---------------+------+\n",
            "|RowNumber|CustomerId| Surname|CreditScore|Geography|Gender|Age|Tenure|  Balance|NumOfProducts|HasCrCard|IsActiveMember|EstimatedSalary|Exited|\n",
            "+---------+----------+--------+-----------+---------+------+---+------+---------+-------------+---------+--------------+---------------+------+\n",
            "|        1|  15634602|Hargrave|        619|   France|Female| 42|     2|      0.0|            1|        1|             1|      101348.88|     1|\n",
            "|        2|  15647311|    Hill|        608|    Spain|Female| 41|     1| 83807.86|            1|        0|             1|      112542.58|     0|\n",
            "|        3|  15619304|    Onio|        502|   France|Female| 42|     8| 159660.8|            3|        1|             0|      113931.57|     1|\n",
            "|        4|  15701354|    Boni|        699|   France|Female| 39|     1|      0.0|            2|        0|             0|       93826.63|     0|\n",
            "|        5|  15737888|Mitchell|        850|    Spain|Female| 43|     2|125510.82|            1|        1|             1|        79084.1|     0|\n",
            "|        6|  15574012|     Chu|        645|    Spain|  Male| 44|     8|113755.78|            2|        1|             0|      149756.71|     1|\n",
            "|        7|  15592531|Bartlett|        822|   France|  Male| 50|     7|      0.0|            2|        1|             1|        10062.8|     0|\n",
            "|        8|  15656148|  Obinna|        376|  Germany|Female| 29|     4|115046.74|            4|        1|             0|      119346.88|     1|\n",
            "|        9|  15792365|      He|        501|   France|  Male| 44|     4|142051.07|            2|        0|             1|        74940.5|     0|\n",
            "|       10|  15592389|      H?|        684|   France|  Male| 27|     2|134603.88|            1|        1|             1|       71725.73|     0|\n",
            "+---------+----------+--------+-----------+---------+------+---+------+---------+-------------+---------+--------------+---------------+------+\n",
            "only showing top 10 rows\n",
            "\n",
            "+-------------------+------------------+------------------+------------------+------------------+---------+------------------+\n",
            "|               Date|              Open|              High|               Low|             Close|   Volume|         Adj Close|\n",
            "+-------------------+------------------+------------------+------------------+------------------+---------+------------------+\n",
            "|2010-01-04 00:00:00|        213.429998|        214.499996|212.38000099999996|        214.009998|123432400|         27.727039|\n",
            "|2010-01-05 00:00:00|        214.599998|        215.589994|        213.249994|        214.379993|150476200|27.774976000000002|\n",
            "|2010-01-06 00:00:00|        214.379993|            215.23|        210.750004|        210.969995|138040000|27.333178000000004|\n",
            "|2010-01-07 00:00:00|            211.75|        212.000006|        209.050005|            210.58|119282800|          27.28265|\n",
            "|2010-01-08 00:00:00|        210.299994|        212.000006|209.06000500000002|211.98000499999998|111902700|         27.464034|\n",
            "|2010-01-11 00:00:00|212.79999700000002|        213.000002|        208.450005|210.11000299999998|115557400|         27.221758|\n",
            "|2010-01-12 00:00:00|209.18999499999998|209.76999500000002|        206.419998|        207.720001|148614900|          26.91211|\n",
            "|2010-01-13 00:00:00|        207.870005|210.92999500000002|        204.099998|        210.650002|151473000|          27.29172|\n",
            "|2010-01-14 00:00:00|210.11000299999998|210.45999700000002|        209.020004|            209.43|108223500|         27.133657|\n",
            "|2010-01-15 00:00:00|210.92999500000002|211.59999700000003|        205.869999|            205.93|148516900|26.680197999999997|\n",
            "+-------------------+------------------+------------------+------------------+------------------+---------+------------------+\n",
            "only showing top 10 rows\n",
            "\n"
          ]
        }
      ]
    },
    {
      "cell_type": "code",
      "source": [
        "df_bank.select('Age', 'CreditScore').show(10)"
      ],
      "metadata": {
        "colab": {
          "base_uri": "https://localhost:8080/"
        },
        "id": "5kSyJ7-G2EOd",
        "outputId": "a8561c3d-cf54-4a72-803b-b17180cd796e"
      },
      "execution_count": null,
      "outputs": [
        {
          "output_type": "stream",
          "name": "stdout",
          "text": [
            "+---+-----------+\n",
            "|Age|CreditScore|\n",
            "+---+-----------+\n",
            "| 42|        619|\n",
            "| 41|        608|\n",
            "| 42|        502|\n",
            "| 39|        699|\n",
            "| 43|        850|\n",
            "| 44|        645|\n",
            "| 50|        822|\n",
            "| 29|        376|\n",
            "| 44|        501|\n",
            "| 27|        684|\n",
            "+---+-----------+\n",
            "only showing top 10 rows\n",
            "\n"
          ]
        }
      ]
    },
    {
      "cell_type": "code",
      "source": [
        "df_bank.withColumn('Age', df_bank['Age'] - 100).show(10)"
      ],
      "metadata": {
        "colab": {
          "base_uri": "https://localhost:8080/"
        },
        "id": "nXg8C59o6US8",
        "outputId": "c7f3668e-e073-47e7-caf7-80931a742ae6"
      },
      "execution_count": null,
      "outputs": [
        {
          "output_type": "stream",
          "name": "stdout",
          "text": [
            "+---------+----------+--------+-----------+---------+------+---+------+---------+-------------+---------+--------------+---------------+------+\n",
            "|RowNumber|CustomerId| Surname|CreditScore|Geography|Gender|Age|Tenure|  Balance|NumOfProducts|HasCrCard|IsActiveMember|EstimatedSalary|Exited|\n",
            "+---------+----------+--------+-----------+---------+------+---+------+---------+-------------+---------+--------------+---------------+------+\n",
            "|        1|  15634602|Hargrave|        619|   France|Female|-58|     2|      0.0|            1|        1|             1|      101348.88|     1|\n",
            "|        2|  15647311|    Hill|        608|    Spain|Female|-59|     1| 83807.86|            1|        0|             1|      112542.58|     0|\n",
            "|        3|  15619304|    Onio|        502|   France|Female|-58|     8| 159660.8|            3|        1|             0|      113931.57|     1|\n",
            "|        4|  15701354|    Boni|        699|   France|Female|-61|     1|      0.0|            2|        0|             0|       93826.63|     0|\n",
            "|        5|  15737888|Mitchell|        850|    Spain|Female|-57|     2|125510.82|            1|        1|             1|        79084.1|     0|\n",
            "|        6|  15574012|     Chu|        645|    Spain|  Male|-56|     8|113755.78|            2|        1|             0|      149756.71|     1|\n",
            "|        7|  15592531|Bartlett|        822|   France|  Male|-50|     7|      0.0|            2|        1|             1|        10062.8|     0|\n",
            "|        8|  15656148|  Obinna|        376|  Germany|Female|-71|     4|115046.74|            4|        1|             0|      119346.88|     1|\n",
            "|        9|  15792365|      He|        501|   France|  Male|-56|     4|142051.07|            2|        0|             1|        74940.5|     0|\n",
            "|       10|  15592389|      H?|        684|   France|  Male|-73|     2|134603.88|            1|        1|             1|       71725.73|     0|\n",
            "+---------+----------+--------+-----------+---------+------+---+------+---------+-------------+---------+--------------+---------------+------+\n",
            "only showing top 10 rows\n",
            "\n"
          ]
        }
      ]
    },
    {
      "cell_type": "code",
      "source": [
        "df_bank.filter(df_bank['age'] > 21).show(10)"
      ],
      "metadata": {
        "colab": {
          "base_uri": "https://localhost:8080/"
        },
        "id": "CSv6h-MM68H7",
        "outputId": "89b51cd7-acab-4b91-b8e7-f884f85d70e5"
      },
      "execution_count": null,
      "outputs": [
        {
          "output_type": "stream",
          "name": "stdout",
          "text": [
            "+---------+----------+--------+-----------+---------+------+---+------+---------+-------------+---------+--------------+---------------+------+\n",
            "|RowNumber|CustomerId| Surname|CreditScore|Geography|Gender|Age|Tenure|  Balance|NumOfProducts|HasCrCard|IsActiveMember|EstimatedSalary|Exited|\n",
            "+---------+----------+--------+-----------+---------+------+---+------+---------+-------------+---------+--------------+---------------+------+\n",
            "|        1|  15634602|Hargrave|        619|   France|Female| 42|     2|      0.0|            1|        1|             1|      101348.88|     1|\n",
            "|        2|  15647311|    Hill|        608|    Spain|Female| 41|     1| 83807.86|            1|        0|             1|      112542.58|     0|\n",
            "|        3|  15619304|    Onio|        502|   France|Female| 42|     8| 159660.8|            3|        1|             0|      113931.57|     1|\n",
            "|        4|  15701354|    Boni|        699|   France|Female| 39|     1|      0.0|            2|        0|             0|       93826.63|     0|\n",
            "|        5|  15737888|Mitchell|        850|    Spain|Female| 43|     2|125510.82|            1|        1|             1|        79084.1|     0|\n",
            "|        6|  15574012|     Chu|        645|    Spain|  Male| 44|     8|113755.78|            2|        1|             0|      149756.71|     1|\n",
            "|        7|  15592531|Bartlett|        822|   France|  Male| 50|     7|      0.0|            2|        1|             1|        10062.8|     0|\n",
            "|        8|  15656148|  Obinna|        376|  Germany|Female| 29|     4|115046.74|            4|        1|             0|      119346.88|     1|\n",
            "|        9|  15792365|      He|        501|   France|  Male| 44|     4|142051.07|            2|        0|             1|        74940.5|     0|\n",
            "|       10|  15592389|      H?|        684|   France|  Male| 27|     2|134603.88|            1|        1|             1|       71725.73|     0|\n",
            "+---------+----------+--------+-----------+---------+------+---+------+---------+-------------+---------+--------------+---------------+------+\n",
            "only showing top 10 rows\n",
            "\n"
          ]
        }
      ]
    },
    {
      "cell_type": "code",
      "source": [
        "df_bank.filter(df_bank['Gender'] == 'Male').show(10)"
      ],
      "metadata": {
        "colab": {
          "base_uri": "https://localhost:8080/"
        },
        "id": "qQ1U51O27RCc",
        "outputId": "6e19a666-644e-4418-f4b6-cdb0bf9096bc"
      },
      "execution_count": null,
      "outputs": [
        {
          "output_type": "stream",
          "name": "stdout",
          "text": [
            "+---------+----------+--------+-----------+---------+------+---+------+---------+-------------+---------+--------------+---------------+------+\n",
            "|RowNumber|CustomerId| Surname|CreditScore|Geography|Gender|Age|Tenure|  Balance|NumOfProducts|HasCrCard|IsActiveMember|EstimatedSalary|Exited|\n",
            "+---------+----------+--------+-----------+---------+------+---+------+---------+-------------+---------+--------------+---------------+------+\n",
            "|        6|  15574012|     Chu|        645|    Spain|  Male| 44|     8|113755.78|            2|        1|             0|      149756.71|     1|\n",
            "|        7|  15592531|Bartlett|        822|   France|  Male| 50|     7|      0.0|            2|        1|             1|        10062.8|     0|\n",
            "|        9|  15792365|      He|        501|   France|  Male| 44|     4|142051.07|            2|        0|             1|        74940.5|     0|\n",
            "|       10|  15592389|      H?|        684|   France|  Male| 27|     2|134603.88|            1|        1|             1|       71725.73|     0|\n",
            "|       11|  15767821|  Bearce|        528|   France|  Male| 31|     6|102016.72|            2|        0|             0|       80181.12|     0|\n",
            "|       12|  15737173| Andrews|        497|    Spain|  Male| 24|     3|      0.0|            2|        1|             0|       76390.01|     0|\n",
            "|       16|  15643966| Goforth|        616|  Germany|  Male| 45|     3|143129.41|            2|        0|             1|       64327.26|     0|\n",
            "|       17|  15737452|   Romeo|        653|  Germany|  Male| 58|     1|132602.88|            1|        1|             0|        5097.67|     1|\n",
            "|       19|  15661507| Muldrow|        587|    Spain|  Male| 45|     6|      0.0|            1|        0|             0|      158684.81|     0|\n",
            "|       21|  15577657|McDonald|        732|   France|  Male| 41|     8|      0.0|            2|        1|             1|      170886.17|     0|\n",
            "+---------+----------+--------+-----------+---------+------+---+------+---------+-------------+---------+--------------+---------------+------+\n",
            "only showing top 10 rows\n",
            "\n"
          ]
        }
      ]
    },
    {
      "cell_type": "code",
      "source": [
        "df_bank.filter(df_bank['Gender'] == 'Male').count()"
      ],
      "metadata": {
        "colab": {
          "base_uri": "https://localhost:8080/"
        },
        "id": "-hgVvS5p7YQt",
        "outputId": "ef08c119-9b64-41f9-b330-253d925fe560"
      },
      "execution_count": null,
      "outputs": [
        {
          "output_type": "execute_result",
          "data": {
            "text/plain": [
              "5457"
            ]
          },
          "metadata": {},
          "execution_count": 11
        }
      ]
    },
    {
      "cell_type": "code",
      "source": [
        "df_bank.filter((df_bank['Gender'] == 'Male') & (df_bank['Age'] == 69)).show()"
      ],
      "metadata": {
        "colab": {
          "base_uri": "https://localhost:8080/"
        },
        "id": "xRcwxS9F7bGp",
        "outputId": "e3b17fdd-ddaa-4b05-9f2c-a2f6225f5ebd"
      },
      "execution_count": null,
      "outputs": [
        {
          "output_type": "stream",
          "name": "stdout",
          "text": [
            "+---------+----------+----------+-----------+---------+------+---+------+---------+-------------+---------+--------------+---------------+------+\n",
            "|RowNumber|CustomerId|   Surname|CreditScore|Geography|Gender|Age|Tenure|  Balance|NumOfProducts|HasCrCard|IsActiveMember|EstimatedSalary|Exited|\n",
            "+---------+----------+----------+-----------+---------+------+---+------+---------+-------------+---------+--------------+---------------+------+\n",
            "|      808|  15798906|       Cox|        628|   France|  Male| 69|     5|      0.0|            2|        1|             1|       181964.6|     0|\n",
            "|     1408|  15600821|     Hardy|        721|   France|  Male| 69|     2|108424.19|            1|        1|             1|      178418.35|     0|\n",
            "|     1544|  15747677|    Gordon|        656|    Spain|  Male| 69|     6|163975.09|            1|        1|             1|        36108.5|     0|\n",
            "|     2909|  15570769|    Kibble|        494|   France|  Male| 69|     9|  93320.8|            1|        1|             1|       24489.44|     0|\n",
            "|     3204|  15787550|      Chao|        719|   France|  Male| 69|     3|      0.0|            2|        1|             1|       58320.06|     0|\n",
            "|     3528|  15650545| Tomlinson|        849|   France|  Male| 69|     7| 71996.09|            1|        1|             1|      139065.94|     0|\n",
            "|     4314|  15687079|      King|        646|    Spain|  Male| 69|    10|115462.44|            1|        1|             0|       40421.87|     0|\n",
            "|     5818|  15656865|      Gray|        613|  Germany|  Male| 69|     9| 78778.49|            1|        0|             1|        8751.59|     0|\n",
            "|     6047|  15606435|      Wall|        593|  Germany|  Male| 69|     2|187013.13|            2|        0|             1|      105898.69|     0|\n",
            "|     8305|  15792868|    Mickey|        675|   France|  Male| 69|     1|      0.0|            2|        1|             0|      157097.09|     0|\n",
            "|     8395|  15597983|     Brown|        692|   France|  Male| 69|    10|154953.94|            1|        1|             1|       70849.47|     0|\n",
            "|     9403|  15674156|Tretiakova|        810|  Germany|  Male| 69|     3| 27288.43|            1|        1|             1|       110509.9|     0|\n",
            "|     9507|  15661380|    Walker|        682|   France|  Male| 69|     6|      0.0|            2|        0|             1|      149604.18|     0|\n",
            "+---------+----------+----------+-----------+---------+------+---+------+---------+-------------+---------+--------------+---------------+------+\n",
            "\n"
          ]
        }
      ]
    },
    {
      "cell_type": "code",
      "source": [
        "df_bank.where((df_bank['Exited'] == 1) & (df_bank['Age'] == 69)).show()"
      ],
      "metadata": {
        "colab": {
          "base_uri": "https://localhost:8080/"
        },
        "id": "lkhCPKiN7jkZ",
        "outputId": "42309b77-8030-4136-f9da-6e66f4c8ae55"
      },
      "execution_count": null,
      "outputs": [
        {
          "output_type": "stream",
          "name": "stdout",
          "text": [
            "+---------+----------+-------------+-----------+---------+------+---+------+---------+-------------+---------+--------------+---------------+------+\n",
            "|RowNumber|CustomerId|      Surname|CreditScore|Geography|Gender|Age|Tenure|  Balance|NumOfProducts|HasCrCard|IsActiveMember|EstimatedSalary|Exited|\n",
            "+---------+----------+-------------+-----------+---------+------+---+------+---------+-------------+---------+--------------+---------------+------+\n",
            "|      824|  15757811|        Lloyd|        732|    Spain|Female| 69|     9|137453.43|            1|        0|             1|      110932.24|     1|\n",
            "|     9748|  15775761|Iweobiegbunam|        610|  Germany|Female| 69|     5| 86038.21|            3|        0|             0|      192743.06|     1|\n",
            "+---------+----------+-------------+-----------+---------+------+---+------+---------+-------------+---------+--------------+---------------+------+\n",
            "\n"
          ]
        }
      ]
    },
    {
      "cell_type": "code",
      "source": [
        "sh = df_bank.schema"
      ],
      "metadata": {
        "id": "ns1msyCM_bJV"
      },
      "execution_count": null,
      "outputs": []
    },
    {
      "cell_type": "code",
      "source": [
        "# Union and Append operations\n",
        "df2 = df_bank.head(5)\n",
        "#df2 = spark.createDataFrame(df2)\n",
        "rdd = spark.sparkContext.parallelize(df2)"
      ],
      "metadata": {
        "id": "fbFF70b67sLC"
      },
      "execution_count": null,
      "outputs": []
    },
    {
      "cell_type": "code",
      "source": [
        "newdf = spark.createDataFrame(rdd, schema=sh)"
      ],
      "metadata": {
        "id": "FdY9KLKK9PFi"
      },
      "execution_count": null,
      "outputs": []
    },
    {
      "cell_type": "code",
      "source": [
        "newdf.show()"
      ],
      "metadata": {
        "colab": {
          "base_uri": "https://localhost:8080/"
        },
        "id": "3l4CneCC-ckc",
        "outputId": "3de6db28-18bd-48e7-d05c-f0dbc7653f2d"
      },
      "execution_count": null,
      "outputs": [
        {
          "output_type": "stream",
          "name": "stdout",
          "text": [
            "+---------+----------+--------+-----------+---------+------+---+------+---------+-------------+---------+--------------+---------------+------+\n",
            "|RowNumber|CustomerId| Surname|CreditScore|Geography|Gender|Age|Tenure|  Balance|NumOfProducts|HasCrCard|IsActiveMember|EstimatedSalary|Exited|\n",
            "+---------+----------+--------+-----------+---------+------+---+------+---------+-------------+---------+--------------+---------------+------+\n",
            "|        1|  15634602|Hargrave|        619|   France|Female| 42|     2|      0.0|            1|        1|             1|      101348.88|     1|\n",
            "|        2|  15647311|    Hill|        608|    Spain|Female| 41|     1| 83807.86|            1|        0|             1|      112542.58|     0|\n",
            "|        3|  15619304|    Onio|        502|   France|Female| 42|     8| 159660.8|            3|        1|             0|      113931.57|     1|\n",
            "|        4|  15701354|    Boni|        699|   France|Female| 39|     1|      0.0|            2|        0|             0|       93826.63|     0|\n",
            "|        5|  15737888|Mitchell|        850|    Spain|Female| 43|     2|125510.82|            1|        1|             1|        79084.1|     0|\n",
            "+---------+----------+--------+-----------+---------+------+---+------+---------+-------------+---------+--------------+---------------+------+\n",
            "\n"
          ]
        }
      ]
    },
    {
      "cell_type": "code",
      "source": [
        "data = df_bank.union(newdf)\n",
        "data.count()"
      ],
      "metadata": {
        "colab": {
          "base_uri": "https://localhost:8080/"
        },
        "id": "8mdCA-TSAuhy",
        "outputId": "ccf3121a-9fcd-4ce2-9d58-60d1ae160f33"
      },
      "execution_count": null,
      "outputs": [
        {
          "output_type": "execute_result",
          "data": {
            "text/plain": [
              "10005"
            ]
          },
          "metadata": {},
          "execution_count": 19
        }
      ]
    },
    {
      "cell_type": "code",
      "source": [
        "data.show(5)"
      ],
      "metadata": {
        "colab": {
          "base_uri": "https://localhost:8080/"
        },
        "id": "447Ym4GAA40I",
        "outputId": "c045a15d-d3d6-400a-e987-5b96bef8176a"
      },
      "execution_count": null,
      "outputs": [
        {
          "output_type": "stream",
          "name": "stdout",
          "text": [
            "+---------+----------+--------+-----------+---------+------+---+------+---------+-------------+---------+--------------+---------------+------+\n",
            "|RowNumber|CustomerId| Surname|CreditScore|Geography|Gender|Age|Tenure|  Balance|NumOfProducts|HasCrCard|IsActiveMember|EstimatedSalary|Exited|\n",
            "+---------+----------+--------+-----------+---------+------+---+------+---------+-------------+---------+--------------+---------------+------+\n",
            "|        1|  15634602|Hargrave|        619|   France|Female| 42|     2|      0.0|            1|        1|             1|      101348.88|     1|\n",
            "|        2|  15647311|    Hill|        608|    Spain|Female| 41|     1| 83807.86|            1|        0|             1|      112542.58|     0|\n",
            "|        3|  15619304|    Onio|        502|   France|Female| 42|     8| 159660.8|            3|        1|             0|      113931.57|     1|\n",
            "|        4|  15701354|    Boni|        699|   France|Female| 39|     1|      0.0|            2|        0|             0|       93826.63|     0|\n",
            "|        5|  15737888|Mitchell|        850|    Spain|Female| 43|     2|125510.82|            1|        1|             1|        79084.1|     0|\n",
            "+---------+----------+--------+-----------+---------+------+---+------+---------+-------------+---------+--------------+---------------+------+\n",
            "only showing top 5 rows\n",
            "\n"
          ]
        }
      ]
    },
    {
      "cell_type": "code",
      "source": [
        "def power(a):\n",
        "  return a**2\n",
        "power(10)"
      ],
      "metadata": {
        "colab": {
          "base_uri": "https://localhost:8080/"
        },
        "id": "_mUPZYclA4Mw",
        "outputId": "19ea6127-2c42-4ae8-97d6-c6c4f730ce91"
      },
      "execution_count": null,
      "outputs": [
        {
          "output_type": "execute_result",
          "data": {
            "text/plain": [
              "100"
            ]
          },
          "metadata": {},
          "execution_count": 21
        }
      ]
    },
    {
      "cell_type": "code",
      "source": [
        "from pyspark.sql.functions import udf"
      ],
      "metadata": {
        "id": "E8UXQiQsByyR"
      },
      "execution_count": null,
      "outputs": []
    },
    {
      "cell_type": "code",
      "source": [
        "power_udf = udf(power)"
      ],
      "metadata": {
        "id": "qiMYNK-DB2gI"
      },
      "execution_count": null,
      "outputs": []
    },
    {
      "cell_type": "code",
      "source": [
        "df_bank.select(power_udf(df_bank['Age'])).show(10)"
      ],
      "metadata": {
        "colab": {
          "base_uri": "https://localhost:8080/"
        },
        "id": "uHO_Q0cMB5IO",
        "outputId": "8e48165f-6569-4621-bcd4-5ae7b372d0ab"
      },
      "execution_count": null,
      "outputs": [
        {
          "output_type": "stream",
          "name": "stdout",
          "text": [
            "+----------+\n",
            "|power(Age)|\n",
            "+----------+\n",
            "|      1764|\n",
            "|      1681|\n",
            "|      1764|\n",
            "|      1521|\n",
            "|      1849|\n",
            "|      1936|\n",
            "|      2500|\n",
            "|       841|\n",
            "|      1936|\n",
            "|       729|\n",
            "+----------+\n",
            "only showing top 10 rows\n",
            "\n"
          ]
        }
      ]
    },
    {
      "cell_type": "code",
      "source": [
        "from pyspark.sql.functions import max, mean, min, corr, covar_samp, covar_pop, stddev, kurtosis, skewness"
      ],
      "metadata": {
        "id": "EyX6IriiCGM_"
      },
      "execution_count": null,
      "outputs": []
    },
    {
      "cell_type": "code",
      "source": [
        "# to combine 2 dataframes\n",
        "\n",
        "# not using the dataframes so ill just write the commented out commands\n",
        "\n",
        "#expression = df1['cc'] = df2['cc']\n",
        "#join_type=\"inner\"\n",
        "#data=df2.join(df1, expression, join_type)"
      ],
      "metadata": {
        "id": "DZ9F0xmFD2Fj"
      },
      "execution_count": null,
      "outputs": []
    },
    {
      "cell_type": "code",
      "source": [
        "df_stock.show(10)"
      ],
      "metadata": {
        "colab": {
          "base_uri": "https://localhost:8080/"
        },
        "id": "pofv-PK9Rp6S",
        "outputId": "a3a471b4-995d-443e-b106-23bb8b80d550"
      },
      "execution_count": null,
      "outputs": [
        {
          "output_type": "stream",
          "name": "stdout",
          "text": [
            "+-------------------+------------------+------------------+------------------+------------------+---------+------------------+\n",
            "|               Date|              Open|              High|               Low|             Close|   Volume|         Adj Close|\n",
            "+-------------------+------------------+------------------+------------------+------------------+---------+------------------+\n",
            "|2010-01-04 00:00:00|        213.429998|        214.499996|212.38000099999996|        214.009998|123432400|         27.727039|\n",
            "|2010-01-05 00:00:00|        214.599998|        215.589994|        213.249994|        214.379993|150476200|27.774976000000002|\n",
            "|2010-01-06 00:00:00|        214.379993|            215.23|        210.750004|        210.969995|138040000|27.333178000000004|\n",
            "|2010-01-07 00:00:00|            211.75|        212.000006|        209.050005|            210.58|119282800|          27.28265|\n",
            "|2010-01-08 00:00:00|        210.299994|        212.000006|209.06000500000002|211.98000499999998|111902700|         27.464034|\n",
            "|2010-01-11 00:00:00|212.79999700000002|        213.000002|        208.450005|210.11000299999998|115557400|         27.221758|\n",
            "|2010-01-12 00:00:00|209.18999499999998|209.76999500000002|        206.419998|        207.720001|148614900|          26.91211|\n",
            "|2010-01-13 00:00:00|        207.870005|210.92999500000002|        204.099998|        210.650002|151473000|          27.29172|\n",
            "|2010-01-14 00:00:00|210.11000299999998|210.45999700000002|        209.020004|            209.43|108223500|         27.133657|\n",
            "|2010-01-15 00:00:00|210.92999500000002|211.59999700000003|        205.869999|            205.93|148516900|26.680197999999997|\n",
            "+-------------------+------------------+------------------+------------------+------------------+---------+------------------+\n",
            "only showing top 10 rows\n",
            "\n"
          ]
        }
      ]
    },
    {
      "cell_type": "code",
      "source": [
        "from pyspark.sql.functions import format_number, to_timestamp"
      ],
      "metadata": {
        "id": "W5UzJmHSSDO_"
      },
      "execution_count": null,
      "outputs": []
    },
    {
      "cell_type": "code",
      "source": [
        "from pyspark.sql.functions import hours, dayofmonth, dayofweek, dayofyear, year, date_format, weekofyear, month"
      ],
      "metadata": {
        "id": "uJoVZNGvV_XV"
      },
      "execution_count": null,
      "outputs": []
    },
    {
      "cell_type": "code",
      "source": [
        "df_stock.select(month(df_stock['Date'])).show(10)"
      ],
      "metadata": {
        "colab": {
          "base_uri": "https://localhost:8080/"
        },
        "id": "okGgIdfOWqLZ",
        "outputId": "11e1cdb6-ce2e-4f08-f4db-1489f3450e3f"
      },
      "execution_count": null,
      "outputs": [
        {
          "output_type": "stream",
          "name": "stdout",
          "text": [
            "+-----------+\n",
            "|month(Date)|\n",
            "+-----------+\n",
            "|          1|\n",
            "|          1|\n",
            "|          1|\n",
            "|          1|\n",
            "|          1|\n",
            "|          1|\n",
            "|          1|\n",
            "|          1|\n",
            "|          1|\n",
            "|          1|\n",
            "+-----------+\n",
            "only showing top 10 rows\n",
            "\n"
          ]
        }
      ]
    },
    {
      "cell_type": "code",
      "source": [
        "df_stock.select(year(df_stock['Date'])).show(10)"
      ],
      "metadata": {
        "colab": {
          "base_uri": "https://localhost:8080/"
        },
        "id": "kzMH_QqsW5yI",
        "outputId": "85f5354b-bcf2-4efa-94dd-c564bbd93a29"
      },
      "execution_count": null,
      "outputs": [
        {
          "output_type": "stream",
          "name": "stdout",
          "text": [
            "+----------+\n",
            "|year(Date)|\n",
            "+----------+\n",
            "|      2010|\n",
            "|      2010|\n",
            "|      2010|\n",
            "|      2010|\n",
            "|      2010|\n",
            "|      2010|\n",
            "|      2010|\n",
            "|      2010|\n",
            "|      2010|\n",
            "|      2010|\n",
            "+----------+\n",
            "only showing top 10 rows\n",
            "\n"
          ]
        }
      ]
    },
    {
      "cell_type": "markdown",
      "source": [
        "# RDD Python API\n",
        "\n"
      ],
      "metadata": {
        "id": "8Jb5ySBYLAFs"
      }
    },
    {
      "cell_type": "code",
      "source": [
        "from pyspark import SparkContext, SparkConf"
      ],
      "metadata": {
        "id": "aE29I7V_LM2c"
      },
      "execution_count": null,
      "outputs": []
    },
    {
      "cell_type": "code",
      "source": [
        "conf=SparkConf().setAppName(\"RDD\")"
      ],
      "metadata": {
        "id": "ej0uYnNOLXOE"
      },
      "execution_count": null,
      "outputs": []
    },
    {
      "cell_type": "code",
      "source": [
        "data = [\"spark is a bigdata solution\", \"holy shit these examples are fucking useless\", \"why the fuck am i wasting my time with this\"]"
      ],
      "metadata": {
        "id": "e22tAi1NLlr_"
      },
      "execution_count": null,
      "outputs": []
    },
    {
      "cell_type": "code",
      "source": [
        "rdd = spark.sparkContext.parallelize(data)"
      ],
      "metadata": {
        "id": "oOYuU66DMFzs"
      },
      "execution_count": null,
      "outputs": []
    },
    {
      "cell_type": "code",
      "source": [
        "print(rdd)"
      ],
      "metadata": {
        "colab": {
          "base_uri": "https://localhost:8080/"
        },
        "id": "JKwtoX4FMLUZ",
        "outputId": "e8ee079b-cdea-49c6-e072-535902e7c80e"
      },
      "execution_count": null,
      "outputs": [
        {
          "output_type": "stream",
          "name": "stdout",
          "text": [
            "ParallelCollectionRDD[103] at readRDDFromFile at PythonRDD.scala:274\n"
          ]
        }
      ]
    },
    {
      "cell_type": "code",
      "source": [
        "rdd.collect()"
      ],
      "metadata": {
        "colab": {
          "base_uri": "https://localhost:8080/"
        },
        "id": "9wwbQGwaMZBf",
        "outputId": "b9f3e31d-0f18-4d36-c415-76c76018dc14"
      },
      "execution_count": null,
      "outputs": [
        {
          "output_type": "execute_result",
          "data": {
            "text/plain": [
              "['spark is a bigdata solution',\n",
              " 'holy shit these examples are fucking useless',\n",
              " 'why the fuck am i wasting my time with this']"
            ]
          },
          "metadata": {},
          "execution_count": 41
        }
      ]
    },
    {
      "cell_type": "code",
      "source": [
        "def upper(s):\n",
        "  return s.upper()"
      ],
      "metadata": {
        "id": "7jXHguqyMfGV"
      },
      "execution_count": null,
      "outputs": []
    },
    {
      "cell_type": "code",
      "source": [
        "stringrdd=rdd.map(upper)"
      ],
      "metadata": {
        "id": "FW24J64YMs2I"
      },
      "execution_count": null,
      "outputs": []
    },
    {
      "cell_type": "code",
      "source": [
        "stringrdd.collect()"
      ],
      "metadata": {
        "colab": {
          "base_uri": "https://localhost:8080/"
        },
        "id": "XqGSuZbyNJ8j",
        "outputId": "31a5abe6-ba87-4f26-9ceb-6bed4201b03d"
      },
      "execution_count": null,
      "outputs": [
        {
          "output_type": "execute_result",
          "data": {
            "text/plain": [
              "['SPARK IS A BIGDATA SOLUTION',\n",
              " 'HOLY SHIT THESE EXAMPLES ARE FUCKING USELESS',\n",
              " 'WHY THE FUCK AM I WASTING MY TIME WITH THIS']"
            ]
          },
          "metadata": {},
          "execution_count": 44
        }
      ]
    },
    {
      "cell_type": "code",
      "source": [
        "data = [1,2,3,4,5,6,7,8,9,10]\n",
        "rdd=spark.sparkContext.parallelize(data)"
      ],
      "metadata": {
        "id": "DwrVzXdQNMfT"
      },
      "execution_count": null,
      "outputs": []
    },
    {
      "cell_type": "code",
      "source": [
        "rdd2=rdd.filter(lambda x:x%2==0)"
      ],
      "metadata": {
        "id": "CDKJsLFROZAf"
      },
      "execution_count": null,
      "outputs": []
    },
    {
      "cell_type": "code",
      "source": [
        "rdd2.collect()"
      ],
      "metadata": {
        "colab": {
          "base_uri": "https://localhost:8080/"
        },
        "id": "o_h2wQD4OdFH",
        "outputId": "f9b58969-4979-414a-e433-f8b4c676acdc"
      },
      "execution_count": null,
      "outputs": [
        {
          "output_type": "execute_result",
          "data": {
            "text/plain": [
              "[2, 4, 6, 8, 10]"
            ]
          },
          "metadata": {},
          "execution_count": 47
        }
      ]
    },
    {
      "cell_type": "code",
      "source": [
        ""
      ],
      "metadata": {
        "id": "o0pWXQptOeui"
      },
      "execution_count": null,
      "outputs": []
    }
  ]
}