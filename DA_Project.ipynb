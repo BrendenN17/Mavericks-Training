{
  "nbformat": 4,
  "nbformat_minor": 0,
  "metadata": {
    "colab": {
      "name": "DA-Project.ipynb",
      "provenance": [],
      "collapsed_sections": []
    },
    "kernelspec": {
      "name": "python3",
      "display_name": "Python 3"
    },
    "language_info": {
      "name": "python"
    }
  },
  "cells": [
    {
      "cell_type": "markdown",
      "source": [
        "Brenden Nelson\n",
        "\n",
        "ID: 1000075551"
      ],
      "metadata": {
        "id": "AJkIIE2UBw0X"
      }
    },
    {
      "cell_type": "markdown",
      "source": [
        "![image.png](data:image/png;base64,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)"
      ],
      "metadata": {
        "id": "ysgMlxjuCewj"
      }
    },
    {
      "cell_type": "code",
      "execution_count": null,
      "metadata": {
        "colab": {
          "base_uri": "https://localhost:8080/",
          "height": 676
        },
        "id": "IOUd8AxmEcIZ",
        "outputId": "138e0699-b007-4cd5-cac4-8fa524d09cee"
      },
      "outputs": [
        {
          "output_type": "stream",
          "name": "stdout",
          "text": [
            "(185950, 9)\n"
          ]
        },
        {
          "output_type": "execute_result",
          "data": {
            "text/plain": [
              "        Unnamed: 0  Order ID                     Product  Quantity Ordered  \\\n",
              "0                0    176558        USB-C Charging Cable                 2   \n",
              "1                2    176559  Bose SoundSport Headphones                 1   \n",
              "2                3    176560                Google Phone                 1   \n",
              "3                4    176560            Wired Headphones                 1   \n",
              "4                5    176561            Wired Headphones                 1   \n",
              "...            ...       ...                         ...               ...   \n",
              "185945      186845    259353      AAA Batteries (4-pack)                 3   \n",
              "185946      186846    259354                      iPhone                 1   \n",
              "185947      186847    259355                      iPhone                 1   \n",
              "185948      186848    259356      34in Ultrawide Monitor                 1   \n",
              "185949      186849    259357        USB-C Charging Cable                 1   \n",
              "\n",
              "        Price Each      Order Date                         Purchase Address  \\\n",
              "0            11.95  04/19/19 08:46             917 1st St, Dallas, TX 75001   \n",
              "1            99.99  04/07/19 22:30        682 Chestnut St, Boston, MA 02215   \n",
              "2           600.00  04/12/19 14:38     669 Spruce St, Los Angeles, CA 90001   \n",
              "3            11.99  04/12/19 14:38     669 Spruce St, Los Angeles, CA 90001   \n",
              "4            11.99  04/30/19 09:27        333 8th St, Los Angeles, CA 90001   \n",
              "...            ...             ...                                      ...   \n",
              "185945        2.99  09/17/19 20:56   840 Highland St, Los Angeles, CA 90001   \n",
              "185946      700.00  09/01/19 16:00  216 Dogwood St, San Francisco, CA 94016   \n",
              "185947      700.00  09/23/19 07:39     220 12th St, San Francisco, CA 94016   \n",
              "185948      379.99  09/19/19 17:30   511 Forest St, San Francisco, CA 94016   \n",
              "185949       11.95  09/30/19 00:18   250 Meadow St, San Francisco, CA 94016   \n",
              "\n",
              "        Month                 City   sales  \n",
              "0           4         Dallas  (TX)   23.90  \n",
              "1           4         Boston  (MA)   99.99  \n",
              "2           4    Los Angeles  (CA)  600.00  \n",
              "3           4    Los Angeles  (CA)   11.99  \n",
              "4           4    Los Angeles  (CA)   11.99  \n",
              "...       ...                  ...     ...  \n",
              "185945      9    Los Angeles  (CA)    8.97  \n",
              "185946      9  San Francisco  (CA)  700.00  \n",
              "185947      9  San Francisco  (CA)  700.00  \n",
              "185948      9  San Francisco  (CA)  379.99  \n",
              "185949      9  San Francisco  (CA)   11.95  \n",
              "\n",
              "[185950 rows x 10 columns]"
            ],
            "text/html": [
              "\n",
              "  <div id=\"df-fc0d2d99-042a-4256-b13c-4ecf1350d3a9\">\n",
              "    <div class=\"colab-df-container\">\n",
              "      <div>\n",
              "<style scoped>\n",
              "    .dataframe tbody tr th:only-of-type {\n",
              "        vertical-align: middle;\n",
              "    }\n",
              "\n",
              "    .dataframe tbody tr th {\n",
              "        vertical-align: top;\n",
              "    }\n",
              "\n",
              "    .dataframe thead th {\n",
              "        text-align: right;\n",
              "    }\n",
              "</style>\n",
              "<table border=\"1\" class=\"dataframe\">\n",
              "  <thead>\n",
              "    <tr style=\"text-align: right;\">\n",
              "      <th></th>\n",
              "      <th>Unnamed: 0</th>\n",
              "      <th>Order ID</th>\n",
              "      <th>Product</th>\n",
              "      <th>Quantity Ordered</th>\n",
              "      <th>Price Each</th>\n",
              "      <th>Order Date</th>\n",
              "      <th>Purchase Address</th>\n",
              "      <th>Month</th>\n",
              "      <th>City</th>\n",
              "      <th>sales</th>\n",
              "    </tr>\n",
              "  </thead>\n",
              "  <tbody>\n",
              "    <tr>\n",
              "      <th>0</th>\n",
              "      <td>0</td>\n",
              "      <td>176558</td>\n",
              "      <td>USB-C Charging Cable</td>\n",
              "      <td>2</td>\n",
              "      <td>11.95</td>\n",
              "      <td>04/19/19 08:46</td>\n",
              "      <td>917 1st St, Dallas, TX 75001</td>\n",
              "      <td>4</td>\n",
              "      <td>Dallas  (TX)</td>\n",
              "      <td>23.90</td>\n",
              "    </tr>\n",
              "    <tr>\n",
              "      <th>1</th>\n",
              "      <td>2</td>\n",
              "      <td>176559</td>\n",
              "      <td>Bose SoundSport Headphones</td>\n",
              "      <td>1</td>\n",
              "      <td>99.99</td>\n",
              "      <td>04/07/19 22:30</td>\n",
              "      <td>682 Chestnut St, Boston, MA 02215</td>\n",
              "      <td>4</td>\n",
              "      <td>Boston  (MA)</td>\n",
              "      <td>99.99</td>\n",
              "    </tr>\n",
              "    <tr>\n",
              "      <th>2</th>\n",
              "      <td>3</td>\n",
              "      <td>176560</td>\n",
              "      <td>Google Phone</td>\n",
              "      <td>1</td>\n",
              "      <td>600.00</td>\n",
              "      <td>04/12/19 14:38</td>\n",
              "      <td>669 Spruce St, Los Angeles, CA 90001</td>\n",
              "      <td>4</td>\n",
              "      <td>Los Angeles  (CA)</td>\n",
              "      <td>600.00</td>\n",
              "    </tr>\n",
              "    <tr>\n",
              "      <th>3</th>\n",
              "      <td>4</td>\n",
              "      <td>176560</td>\n",
              "      <td>Wired Headphones</td>\n",
              "      <td>1</td>\n",
              "      <td>11.99</td>\n",
              "      <td>04/12/19 14:38</td>\n",
              "      <td>669 Spruce St, Los Angeles, CA 90001</td>\n",
              "      <td>4</td>\n",
              "      <td>Los Angeles  (CA)</td>\n",
              "      <td>11.99</td>\n",
              "    </tr>\n",
              "    <tr>\n",
              "      <th>4</th>\n",
              "      <td>5</td>\n",
              "      <td>176561</td>\n",
              "      <td>Wired Headphones</td>\n",
              "      <td>1</td>\n",
              "      <td>11.99</td>\n",
              "      <td>04/30/19 09:27</td>\n",
              "      <td>333 8th St, Los Angeles, CA 90001</td>\n",
              "      <td>4</td>\n",
              "      <td>Los Angeles  (CA)</td>\n",
              "      <td>11.99</td>\n",
              "    </tr>\n",
              "    <tr>\n",
              "      <th>...</th>\n",
              "      <td>...</td>\n",
              "      <td>...</td>\n",
              "      <td>...</td>\n",
              "      <td>...</td>\n",
              "      <td>...</td>\n",
              "      <td>...</td>\n",
              "      <td>...</td>\n",
              "      <td>...</td>\n",
              "      <td>...</td>\n",
              "      <td>...</td>\n",
              "    </tr>\n",
              "    <tr>\n",
              "      <th>185945</th>\n",
              "      <td>186845</td>\n",
              "      <td>259353</td>\n",
              "      <td>AAA Batteries (4-pack)</td>\n",
              "      <td>3</td>\n",
              "      <td>2.99</td>\n",
              "      <td>09/17/19 20:56</td>\n",
              "      <td>840 Highland St, Los Angeles, CA 90001</td>\n",
              "      <td>9</td>\n",
              "      <td>Los Angeles  (CA)</td>\n",
              "      <td>8.97</td>\n",
              "    </tr>\n",
              "    <tr>\n",
              "      <th>185946</th>\n",
              "      <td>186846</td>\n",
              "      <td>259354</td>\n",
              "      <td>iPhone</td>\n",
              "      <td>1</td>\n",
              "      <td>700.00</td>\n",
              "      <td>09/01/19 16:00</td>\n",
              "      <td>216 Dogwood St, San Francisco, CA 94016</td>\n",
              "      <td>9</td>\n",
              "      <td>San Francisco  (CA)</td>\n",
              "      <td>700.00</td>\n",
              "    </tr>\n",
              "    <tr>\n",
              "      <th>185947</th>\n",
              "      <td>186847</td>\n",
              "      <td>259355</td>\n",
              "      <td>iPhone</td>\n",
              "      <td>1</td>\n",
              "      <td>700.00</td>\n",
              "      <td>09/23/19 07:39</td>\n",
              "      <td>220 12th St, San Francisco, CA 94016</td>\n",
              "      <td>9</td>\n",
              "      <td>San Francisco  (CA)</td>\n",
              "      <td>700.00</td>\n",
              "    </tr>\n",
              "    <tr>\n",
              "      <th>185948</th>\n",
              "      <td>186848</td>\n",
              "      <td>259356</td>\n",
              "      <td>34in Ultrawide Monitor</td>\n",
              "      <td>1</td>\n",
              "      <td>379.99</td>\n",
              "      <td>09/19/19 17:30</td>\n",
              "      <td>511 Forest St, San Francisco, CA 94016</td>\n",
              "      <td>9</td>\n",
              "      <td>San Francisco  (CA)</td>\n",
              "      <td>379.99</td>\n",
              "    </tr>\n",
              "    <tr>\n",
              "      <th>185949</th>\n",
              "      <td>186849</td>\n",
              "      <td>259357</td>\n",
              "      <td>USB-C Charging Cable</td>\n",
              "      <td>1</td>\n",
              "      <td>11.95</td>\n",
              "      <td>09/30/19 00:18</td>\n",
              "      <td>250 Meadow St, San Francisco, CA 94016</td>\n",
              "      <td>9</td>\n",
              "      <td>San Francisco  (CA)</td>\n",
              "      <td>11.95</td>\n",
              "    </tr>\n",
              "  </tbody>\n",
              "</table>\n",
              "<p>185950 rows × 10 columns</p>\n",
              "</div>\n",
              "      <button class=\"colab-df-convert\" onclick=\"convertToInteractive('df-fc0d2d99-042a-4256-b13c-4ecf1350d3a9')\"\n",
              "              title=\"Convert this dataframe to an interactive table.\"\n",
              "              style=\"display:none;\">\n",
              "        \n",
              "  <svg xmlns=\"http://www.w3.org/2000/svg\" height=\"24px\"viewBox=\"0 0 24 24\"\n",
              "       width=\"24px\">\n",
              "    <path d=\"M0 0h24v24H0V0z\" fill=\"none\"/>\n",
              "    <path d=\"M18.56 5.44l.94 2.06.94-2.06 2.06-.94-2.06-.94-.94-2.06-.94 2.06-2.06.94zm-11 1L8.5 8.5l.94-2.06 2.06-.94-2.06-.94L8.5 2.5l-.94 2.06-2.06.94zm10 10l.94 2.06.94-2.06 2.06-.94-2.06-.94-.94-2.06-.94 2.06-2.06.94z\"/><path d=\"M17.41 7.96l-1.37-1.37c-.4-.4-.92-.59-1.43-.59-.52 0-1.04.2-1.43.59L10.3 9.45l-7.72 7.72c-.78.78-.78 2.05 0 2.83L4 21.41c.39.39.9.59 1.41.59.51 0 1.02-.2 1.41-.59l7.78-7.78 2.81-2.81c.8-.78.8-2.07 0-2.86zM5.41 20L4 18.59l7.72-7.72 1.47 1.35L5.41 20z\"/>\n",
              "  </svg>\n",
              "      </button>\n",
              "      \n",
              "  <style>\n",
              "    .colab-df-container {\n",
              "      display:flex;\n",
              "      flex-wrap:wrap;\n",
              "      gap: 12px;\n",
              "    }\n",
              "\n",
              "    .colab-df-convert {\n",
              "      background-color: #E8F0FE;\n",
              "      border: none;\n",
              "      border-radius: 50%;\n",
              "      cursor: pointer;\n",
              "      display: none;\n",
              "      fill: #1967D2;\n",
              "      height: 32px;\n",
              "      padding: 0 0 0 0;\n",
              "      width: 32px;\n",
              "    }\n",
              "\n",
              "    .colab-df-convert:hover {\n",
              "      background-color: #E2EBFA;\n",
              "      box-shadow: 0px 1px 2px rgba(60, 64, 67, 0.3), 0px 1px 3px 1px rgba(60, 64, 67, 0.15);\n",
              "      fill: #174EA6;\n",
              "    }\n",
              "\n",
              "    [theme=dark] .colab-df-convert {\n",
              "      background-color: #3B4455;\n",
              "      fill: #D2E3FC;\n",
              "    }\n",
              "\n",
              "    [theme=dark] .colab-df-convert:hover {\n",
              "      background-color: #434B5C;\n",
              "      box-shadow: 0px 1px 3px 1px rgba(0, 0, 0, 0.15);\n",
              "      filter: drop-shadow(0px 1px 2px rgba(0, 0, 0, 0.3));\n",
              "      fill: #FFFFFF;\n",
              "    }\n",
              "  </style>\n",
              "\n",
              "      <script>\n",
              "        const buttonEl =\n",
              "          document.querySelector('#df-fc0d2d99-042a-4256-b13c-4ecf1350d3a9 button.colab-df-convert');\n",
              "        buttonEl.style.display =\n",
              "          google.colab.kernel.accessAllowed ? 'block' : 'none';\n",
              "\n",
              "        async function convertToInteractive(key) {\n",
              "          const element = document.querySelector('#df-fc0d2d99-042a-4256-b13c-4ecf1350d3a9');\n",
              "          const dataTable =\n",
              "            await google.colab.kernel.invokeFunction('convertToInteractive',\n",
              "                                                     [key], {});\n",
              "          if (!dataTable) return;\n",
              "\n",
              "          const docLinkHtml = 'Like what you see? Visit the ' +\n",
              "            '<a target=\"_blank\" href=https://colab.research.google.com/notebooks/data_table.ipynb>data table notebook</a>'\n",
              "            + ' to learn more about interactive tables.';\n",
              "          element.innerHTML = '';\n",
              "          dataTable['output_type'] = 'display_data';\n",
              "          await google.colab.output.renderOutput(dataTable, element);\n",
              "          const docLink = document.createElement('div');\n",
              "          docLink.innerHTML = docLinkHtml;\n",
              "          element.appendChild(docLink);\n",
              "        }\n",
              "      </script>\n",
              "    </div>\n",
              "  </div>\n",
              "  "
            ]
          },
          "metadata": {},
          "execution_count": 52
        }
      ],
      "source": [
        "# Data comes in with a single string in the Order Date column\n",
        "\n",
        "import pandas as pd\n",
        "import numpy as np\n",
        "\n",
        "data = pd.read_csv('sales-data.csv', on_bad_lines='skip')\n",
        "print(data.shape)\n",
        "data['Quantity Ordered'] = data['Quantity Ordered'].astype('int64')\n",
        "sales = data['Quantity Ordered'] * data['Price Each']\n",
        "data['sales'] = sales\n",
        "data"
      ]
    },
    {
      "cell_type": "code",
      "source": [
        "# Which month had the highest sales? How much was earned that month?\n",
        "\n",
        "m = data.groupby('Month')['sales'].sum()\n",
        "max_val = m.max()\n",
        "max_key = m.idxmax()\n",
        "print(\"Month #\" + str(max_key) +  \" had the most sales with a total sales value of $\",max_val)"
      ],
      "metadata": {
        "colab": {
          "base_uri": "https://localhost:8080/"
        },
        "id": "wsuKu2aHoJt6",
        "outputId": "dc68747e-84b1-4de4-e063-4967c6faad67"
      },
      "execution_count": null,
      "outputs": [
        {
          "output_type": "stream",
          "name": "stdout",
          "text": [
            "Month #12 had the most sales with a total sales value of $ 4613443.34\n"
          ]
        }
      ]
    },
    {
      "cell_type": "code",
      "source": [
        "# Which city sold the most products?\n",
        "\n",
        "c = data.groupby('City')['Quantity Ordered'].sum()\n",
        "print(c.idxmax(), max(c))"
      ],
      "metadata": {
        "colab": {
          "base_uri": "https://localhost:8080/"
        },
        "id": "KHH6qOuyZtBs",
        "outputId": "caaf0887-fe69-4fec-936c-6090bdcb0d4c"
      },
      "execution_count": null,
      "outputs": [
        {
          "output_type": "stream",
          "name": "stdout",
          "text": [
            "San Francisco  (CA) 50239\n"
          ]
        }
      ]
    },
    {
      "cell_type": "code",
      "source": [
        "# What time should we display advertisements to maximize the likelihood of a customer buying a product?\n",
        "\n",
        "data['hour'] = pd.to_datetime(data['Order Date']).dt.hour\n",
        "g = data.groupby('hour')['sales'].sum()\n",
        "\n",
        "max_value = g.max()\n",
        "max_key = g.idxmax()\n",
        "print(\"We should display ads at hour \" + str(max_key) + \" to increase likelihood that customers make a purchase\")\n",
        "print(\"This hour had a total sales value of $\" + str(max_value))"
      ],
      "metadata": {
        "colab": {
          "base_uri": "https://localhost:8080/"
        },
        "id": "0HPxCX7namYo",
        "outputId": "856e8607-8828-406c-a072-bb3bc2314439"
      },
      "execution_count": null,
      "outputs": [
        {
          "output_type": "stream",
          "name": "stdout",
          "text": [
            "We should display ads at hour 19 to increase likelihood that customers make a purchase\n",
            "This hour had a total sales value of $2412938.54\n"
          ]
        }
      ]
    },
    {
      "cell_type": "code",
      "source": [
        "# What products are most often sold together?\n",
        "\n",
        "data = data[data['Order ID'].duplicated(keep=False)]\n",
        "\n",
        "out = []\n",
        "for i in data['Order ID'].unique():\n",
        "  s=tuple(data['Product'][data['Order ID']==i])\n",
        "  out.append(s)\n",
        "out"
      ],
      "metadata": {
        "id": "BOz77fnSbw0E"
      },
      "execution_count": null,
      "outputs": []
    },
    {
      "cell_type": "code",
      "source": [
        "# This is my attempt at solving the problem above using pandas functions/methods rather than for loops\n",
        "\n",
        "\n",
        "g = data.groupby('Order ID')['Product']\n",
        "g"
      ],
      "metadata": {
        "colab": {
          "base_uri": "https://localhost:8080/"
        },
        "id": "QRoc4Kdxszhp",
        "outputId": "28b63870-d28e-4ab2-9a89-045a30de0c3e"
      },
      "execution_count": null,
      "outputs": [
        {
          "output_type": "execute_result",
          "data": {
            "text/plain": [
              "<pandas.core.groupby.generic.SeriesGroupBy object at 0x7f2ef9de9590>"
            ]
          },
          "metadata": {},
          "execution_count": 68
        }
      ]
    },
    {
      "cell_type": "code",
      "source": [
        "data1 = pd.Series(out)\n",
        "data1.value_counts().head()"
      ],
      "metadata": {
        "colab": {
          "base_uri": "https://localhost:8080/"
        },
        "id": "pwwFnFadgzis",
        "outputId": "a579a7de-d417-401a-ff5f-9fb5d1f5bfe8"
      },
      "execution_count": null,
      "outputs": [
        {
          "output_type": "execute_result",
          "data": {
            "text/plain": [
              "(iPhone, Lightning Charging Cable)         882\n",
              "(Google Phone, USB-C Charging Cable)       856\n",
              "(iPhone, Wired Headphones)                 361\n",
              "(Vareebadd Phone, USB-C Charging Cable)    312\n",
              "(Google Phone, Wired Headphones)           303\n",
              "dtype: int64"
            ]
          },
          "metadata": {},
          "execution_count": 50
        }
      ]
    },
    {
      "cell_type": "code",
      "source": [
        ""
      ],
      "metadata": {
        "id": "rpukybyohi_p"
      },
      "execution_count": null,
      "outputs": []
    }
  ]
}